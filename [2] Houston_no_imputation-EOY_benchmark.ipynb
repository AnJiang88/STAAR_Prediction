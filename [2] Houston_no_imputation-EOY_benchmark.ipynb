{
 "cells": [
  {
   "cell_type": "code",
   "execution_count": 1,
   "metadata": {},
   "outputs": [],
   "source": [
    "# Import necessary libraries\n",
    "import numpy as np\n",
    "import pandas as pd\n",
    "import sklearn.linear_model as lm\n",
    "from sklearn.metrics import mean_squared_error\n",
    "from sklearn import preprocessing\n",
    "%matplotlib inline\n",
    "import matplotlib.pyplot as plt\n",
    "import seaborn as sns\n",
    "color = sns.color_palette()\n",
    "sns.set_style('darkgrid')\n",
    "\n",
    "from sklearn.model_selection import cross_val_score\n",
    "from scipy import stats\n",
    "from scipy.stats import norm, skew #for some statistics\n",
    "\n",
    "pd.set_option('display.float_format', lambda x: '{:.3f}'.format(x)) #Limiting floats output to 3 decimal points"
   ]
  },
  {
   "cell_type": "markdown",
   "metadata": {},
   "source": [
    "### Load the dataset as dataframes"
   ]
  },
  {
   "cell_type": "code",
   "execution_count": 2,
   "metadata": {},
   "outputs": [
    {
     "name": "stdout",
     "output_type": "stream",
     "text": [
      "The size of df is: (52759, 90)\n"
     ]
    }
   ],
   "source": [
    "# Import the dataset and put it in pandas dataframe\n",
    "df = pd.read_csv(\"Houston_Data.csv\")\n",
    "print(\"The size of df is: {}\".format(df.shape))"
   ]
  },
  {
   "cell_type": "code",
   "execution_count": 3,
   "metadata": {
    "scrolled": true
   },
   "outputs": [],
   "source": [
    "# Delete the students with Grade = -1, 0, 1, 2\n",
    "df = df.drop(df[(df[\"Grade_1718\"] >= -1).multiply(df[\"Grade_1718\"] <= 2)].index)\n",
    "# Delete the students with Grade = 9, 10, 11, 12 because they are taking EOC instead of reading tests in STAAR\n",
    "df = df.drop(df[(df[\"Grade_1718\"] >= 9).multiply(df[\"Grade_1718\"] <= 12)].index)"
   ]
  },
  {
   "cell_type": "code",
   "execution_count": 4,
   "metadata": {},
   "outputs": [],
   "source": [
    "# Save the 'Id' column\n",
    "df_id = df[\"Student_GUID\"]"
   ]
  },
  {
   "cell_type": "code",
   "execution_count": 5,
   "metadata": {},
   "outputs": [],
   "source": [
    "# Extract the desired features and labels \n",
    "df_demographics = df[[\"IL.School\", \"Grade_1718\", \"Gender\", \"ELL_1718\", \"SPED_1718\", \"Ethnicity\", \"Attendance.Rate_1718\"]]\n",
    "df_usage = pd.concat([df[\"Total_Minutes\"], df.iloc[:, 29:]], axis = 1)\n",
    "df_Benchmark = df.iloc[:, 16:18]\n",
    "df_STAAR_1617 = df[\"Reading.Scale.Score_1617\"]\n",
    "df_STAAR_1718 = df[\"Reading.Scale.Score_1718\"]"
   ]
  },
  {
   "cell_type": "code",
   "execution_count": 6,
   "metadata": {},
   "outputs": [],
   "source": [
    "# Impute the missing data in usage columns with 0. We assume the missing is due to no usage.\n",
    "df_usage = df_usage.fillna(0)"
   ]
  },
  {
   "cell_type": "code",
   "execution_count": 7,
   "metadata": {},
   "outputs": [
    {
     "name": "stdout",
     "output_type": "stream",
     "text": [
      "The size of data is: (28594, 10)\n"
     ]
    }
   ],
   "source": [
    "# Bring them all together\n",
    "data = pd.concat([df_demographics, df_Benchmark, df_STAAR_1718], axis = 1)\n",
    "print(\"The size of data is: {}\".format(data.shape))"
   ]
  },
  {
   "cell_type": "markdown",
   "metadata": {},
   "source": [
    "# PART I: DATA PREPROCESSING"
   ]
  },
  {
   "cell_type": "markdown",
   "metadata": {},
   "source": [
    "### Replace \"---\" with \"NaN\""
   ]
  },
  {
   "cell_type": "code",
   "execution_count": 8,
   "metadata": {},
   "outputs": [],
   "source": [
    "data = data.replace('---', np.nan)"
   ]
  },
  {
   "cell_type": "markdown",
   "metadata": {},
   "source": [
    "## Data statistics"
   ]
  },
  {
   "cell_type": "code",
   "execution_count": 9,
   "metadata": {
    "scrolled": true
   },
   "outputs": [
    {
     "name": "stdout",
     "output_type": "stream",
     "text": [
      "IL.School                        object\n",
      "Grade_1718                        int64\n",
      "Gender                          float64\n",
      "ELL_1718                        float64\n",
      "SPED_1718                       float64\n",
      "Ethnicity                        object\n",
      "Attendance.Rate_1718            float64\n",
      "Benchmark_Literacy_EOY_Score    float64\n",
      "Benchmark_Vocab_EOY_Score       float64\n",
      "Reading.Scale.Score_1718        float64\n",
      "dtype: object\n"
     ]
    }
   ],
   "source": [
    "print(data.dtypes)"
   ]
  },
  {
   "cell_type": "markdown",
   "metadata": {
    "scrolled": true
   },
   "source": [
    "## Feature engineering"
   ]
  },
  {
   "cell_type": "markdown",
   "metadata": {},
   "source": [
    "### Missing data"
   ]
  },
  {
   "cell_type": "code",
   "execution_count": 10,
   "metadata": {
    "scrolled": false
   },
   "outputs": [
    {
     "data": {
      "text/html": [
       "<div>\n",
       "<style scoped>\n",
       "    .dataframe tbody tr th:only-of-type {\n",
       "        vertical-align: middle;\n",
       "    }\n",
       "\n",
       "    .dataframe tbody tr th {\n",
       "        vertical-align: top;\n",
       "    }\n",
       "\n",
       "    .dataframe thead th {\n",
       "        text-align: right;\n",
       "    }\n",
       "</style>\n",
       "<table border=\"1\" class=\"dataframe\">\n",
       "  <thead>\n",
       "    <tr style=\"text-align: right;\">\n",
       "      <th></th>\n",
       "      <th>Missing Ratio (%)</th>\n",
       "    </tr>\n",
       "  </thead>\n",
       "  <tbody>\n",
       "    <tr>\n",
       "      <th>Benchmark_Vocab_EOY_Score</th>\n",
       "      <td>73.823</td>\n",
       "    </tr>\n",
       "    <tr>\n",
       "      <th>Benchmark_Literacy_EOY_Score</th>\n",
       "      <td>65.045</td>\n",
       "    </tr>\n",
       "    <tr>\n",
       "      <th>Reading.Scale.Score_1718</th>\n",
       "      <td>6.386</td>\n",
       "    </tr>\n",
       "    <tr>\n",
       "      <th>Attendance.Rate_1718</th>\n",
       "      <td>0.112</td>\n",
       "    </tr>\n",
       "    <tr>\n",
       "      <th>Ethnicity</th>\n",
       "      <td>0.045</td>\n",
       "    </tr>\n",
       "    <tr>\n",
       "      <th>SPED_1718</th>\n",
       "      <td>0.045</td>\n",
       "    </tr>\n",
       "    <tr>\n",
       "      <th>ELL_1718</th>\n",
       "      <td>0.045</td>\n",
       "    </tr>\n",
       "    <tr>\n",
       "      <th>Gender</th>\n",
       "      <td>0.045</td>\n",
       "    </tr>\n",
       "  </tbody>\n",
       "</table>\n",
       "</div>"
      ],
      "text/plain": [
       "                              Missing Ratio (%)\n",
       "Benchmark_Vocab_EOY_Score                73.823\n",
       "Benchmark_Literacy_EOY_Score             65.045\n",
       "Reading.Scale.Score_1718                  6.386\n",
       "Attendance.Rate_1718                      0.112\n",
       "Ethnicity                                 0.045\n",
       "SPED_1718                                 0.045\n",
       "ELL_1718                                  0.045\n",
       "Gender                                    0.045"
      ]
     },
     "execution_count": 10,
     "metadata": {},
     "output_type": "execute_result"
    }
   ],
   "source": [
    "# Missing data for data\n",
    "data_na = (data.isnull().sum() / len(data)) * 100\n",
    "data_na = data_na.drop(data_na[data_na == 0].index).sort_values(ascending=False)\n",
    "missing_data = pd.DataFrame({'Missing Ratio (%)' :data_na})\n",
    "missing_data"
   ]
  },
  {
   "cell_type": "code",
   "execution_count": 11,
   "metadata": {
    "scrolled": true
   },
   "outputs": [
    {
     "name": "stdout",
     "output_type": "stream",
     "text": [
      "The size of data is: (26767, 10)\n"
     ]
    }
   ],
   "source": [
    "# Delete rows (student samples) without STAAR test score (Reading.Scale.Score_1718), \n",
    "# since the missing ratio of this is only 8.744%\n",
    "# Delete rows without Ethnicity, because it is impossible to impute it and the missing ratio is very small (0.003%)\n",
    "data = data.dropna(subset = [\"Reading.Scale.Score_1718\", \"Ethnicity\"])\n",
    "print(\"The size of data is: {}\".format(data.shape))"
   ]
  },
  {
   "cell_type": "markdown",
   "metadata": {},
   "source": [
    "#### Check the remaining missing values"
   ]
  },
  {
   "cell_type": "code",
   "execution_count": 12,
   "metadata": {
    "scrolled": false
   },
   "outputs": [
    {
     "data": {
      "text/html": [
       "<div>\n",
       "<style scoped>\n",
       "    .dataframe tbody tr th:only-of-type {\n",
       "        vertical-align: middle;\n",
       "    }\n",
       "\n",
       "    .dataframe tbody tr th {\n",
       "        vertical-align: top;\n",
       "    }\n",
       "\n",
       "    .dataframe thead th {\n",
       "        text-align: right;\n",
       "    }\n",
       "</style>\n",
       "<table border=\"1\" class=\"dataframe\">\n",
       "  <thead>\n",
       "    <tr style=\"text-align: right;\">\n",
       "      <th></th>\n",
       "      <th>Missing Ratio (%)</th>\n",
       "    </tr>\n",
       "  </thead>\n",
       "  <tbody>\n",
       "    <tr>\n",
       "      <th>Benchmark_Vocab_EOY_Score</th>\n",
       "      <td>72.791</td>\n",
       "    </tr>\n",
       "    <tr>\n",
       "      <th>Benchmark_Literacy_EOY_Score</th>\n",
       "      <td>63.455</td>\n",
       "    </tr>\n",
       "  </tbody>\n",
       "</table>\n",
       "</div>"
      ],
      "text/plain": [
       "                              Missing Ratio (%)\n",
       "Benchmark_Vocab_EOY_Score                72.791\n",
       "Benchmark_Literacy_EOY_Score             63.455"
      ]
     },
     "execution_count": 12,
     "metadata": {},
     "output_type": "execute_result"
    }
   ],
   "source": [
    "# Missing data for data\n",
    "data_na = (data.isnull().sum() / len(data)) * 100\n",
    "data_na = data_na.drop(data_na[data_na == 0].index).sort_values(ascending=False)\n",
    "missing_data = pd.DataFrame({'Missing Ratio (%)' :data_na})\n",
    "missing_data"
   ]
  },
  {
   "cell_type": "markdown",
   "metadata": {},
   "source": [
    "Imputation is not implemented."
   ]
  },
  {
   "cell_type": "markdown",
   "metadata": {},
   "source": [
    "### Getting dummy categorical features (ONE-HOT VECTOR REPRESENTATION)"
   ]
  },
  {
   "cell_type": "code",
   "execution_count": 13,
   "metadata": {
    "scrolled": true
   },
   "outputs": [
    {
     "name": "stdout",
     "output_type": "stream",
     "text": [
      "The size of data is: (26767, 128)\n"
     ]
    }
   ],
   "source": [
    "# get_dummies only convert object (data type) to one-hot vectors, so far it is just for school_district\n",
    "data = pd.get_dummies(data)\n",
    "print(\"The size of data is: {}\".format(data.shape))"
   ]
  },
  {
   "cell_type": "markdown",
   "metadata": {},
   "source": [
    "### Feature normalization"
   ]
  },
  {
   "cell_type": "code",
   "execution_count": 14,
   "metadata": {},
   "outputs": [
    {
     "name": "stdout",
     "output_type": "stream",
     "text": [
      "Target mean is [1464.54630702]. Target standard deviation is [147.59229586]\n"
     ]
    }
   ],
   "source": [
    "# Normalize the target labels only so that outcome across different imputation methods may be compared\n",
    "from sklearn import preprocessing\n",
    "array = data[\"Reading.Scale.Score_1718\"].values.reshape(-1, 1)\n",
    "scaler = preprocessing.StandardScaler().fit(array)\n",
    "data[\"Reading.Scale.Score_1718\"] = scaler.transform(array)\n",
    "\n",
    "mu = scaler.mean_\n",
    "sigma = scaler.scale_\n",
    "print(\"Target mean is {}. Target standard deviation is {}\".format(mu, sigma))"
   ]
  },
  {
   "cell_type": "markdown",
   "metadata": {},
   "source": [
    "## Getting the new training and test sets"
   ]
  },
  {
   "cell_type": "code",
   "execution_count": 15,
   "metadata": {},
   "outputs": [],
   "source": [
    "# Split features and labels\n",
    "X = data.drop([\"Reading.Scale.Score_1718\"], axis=1).values\n",
    "y = data[\"Reading.Scale.Score_1718\"].values\n",
    "# Split the training and test sets\n",
    "from sklearn.model_selection import train_test_split\n",
    "X_train, X_test, y_train, y_test = train_test_split(X, y, test_size=0.2, random_state=1)"
   ]
  },
  {
   "cell_type": "markdown",
   "metadata": {},
   "source": [
    "Note: the training and test datasets are now numpy arrays instead of pandas dataframe "
   ]
  },
  {
   "cell_type": "markdown",
   "metadata": {},
   "source": [
    "# PART II: Machine Learning Models"
   ]
  },
  {
   "cell_type": "code",
   "execution_count": 16,
   "metadata": {},
   "outputs": [],
   "source": [
    "from sklearn import linear_model\n",
    "from sklearn.ensemble import RandomForestRegressor,  GradientBoostingRegressor\n",
    "from sklearn.kernel_ridge import KernelRidge\n",
    "from sklearn.base import BaseEstimator, TransformerMixin, RegressorMixin, clone\n",
    "from sklearn.model_selection import KFold, cross_val_score, train_test_split\n",
    "from sklearn.metrics import mean_squared_error\n",
    "import xgboost as xgb\n",
    "import lightgbm as lgb"
   ]
  },
  {
   "cell_type": "markdown",
   "metadata": {},
   "source": [
    "### Define a cross validation strategy and other helper functions\n",
    "We use the cross_val_score function of Sklearn. However this function has not a shuffle attribute, we add then one line of code, in order to shuffle the dataset prior to cross-validation"
   ]
  },
  {
   "cell_type": "code",
   "execution_count": 17,
   "metadata": {},
   "outputs": [],
   "source": [
    "#Validation function\n",
    "n_folds = 5\n",
    "def rmsne_cv(model):\n",
    "    kf = KFold(n_folds, shuffle=True, random_state=1).get_n_splits(X_train)\n",
    "    rmsne= np.sqrt(-cross_val_score(model, X_train, y_train, scoring=\"neg_mean_squared_error\", cv = kf))\n",
    "    return(rmsne)"
   ]
  },
  {
   "cell_type": "code",
   "execution_count": 18,
   "metadata": {},
   "outputs": [],
   "source": [
    "# transform the target lables back to the original scale\n",
    "def restore(y):\n",
    "    return (y * sigma) + mu\n",
    "# root mean square nomalization error\n",
    "def rmsne(y, y_pred):\n",
    "    return np.sqrt(mean_squared_error(y, y_pred))"
   ]
  },
  {
   "cell_type": "markdown",
   "metadata": {},
   "source": [
    "## Base models"
   ]
  },
  {
   "cell_type": "markdown",
   "metadata": {},
   "source": [
    "### 1. Xgboost"
   ]
  },
  {
   "cell_type": "code",
   "execution_count": 19,
   "metadata": {
    "scrolled": true
   },
   "outputs": [
    {
     "name": "stdout",
     "output_type": "stream",
     "text": [
      "CV score: 0.7635 (0.0093) \n"
     ]
    }
   ],
   "source": [
    "XGBR = xgb.XGBRegressor(colsample_bytree=0.4603, gamma=0.0468, \n",
    "                             learning_rate=0.05, max_depth=3, \n",
    "                             min_child_weight=1.7817, n_estimators=2200,\n",
    "                             reg_alpha=0.4640, reg_lambda=0.8571,\n",
    "                             subsample=0.5213, silent=1,\n",
    "                             random_state =7, nthread = -1)\n",
    "score = rmsne_cv(XGBR)\n",
    "print(\"CV score: {:.4f} ({:.4f}) \".format(score.mean(), score.std()))"
   ]
  },
  {
   "cell_type": "markdown",
   "metadata": {},
   "source": [
    "### 2. LightGBM"
   ]
  },
  {
   "cell_type": "code",
   "execution_count": 20,
   "metadata": {},
   "outputs": [
    {
     "name": "stdout",
     "output_type": "stream",
     "text": [
      "CV score: 0.7696 (0.0103) \n"
     ]
    }
   ],
   "source": [
    "LGBM = lgb.LGBMRegressor(objective='regression',num_leaves=5,\n",
    "                              learning_rate=0.05, n_estimators=720,\n",
    "                              max_bin = 55, bagging_fraction = 0.8,\n",
    "                              bagging_freq = 5, feature_fraction = 0.2319,\n",
    "                              feature_fraction_seed=9, bagging_seed=9,\n",
    "                              min_data_in_leaf =6, min_sum_hessian_in_leaf = 11)\n",
    "score = rmsne_cv(LGBM)\n",
    "print(\"CV score: {:.4f} ({:.4f}) \".format(score.mean(), score.std()))"
   ]
  },
  {
   "cell_type": "markdown",
   "metadata": {},
   "source": [
    "### 3. Stacking models"
   ]
  },
  {
   "cell_type": "markdown",
   "metadata": {},
   "source": [
    "- Simplest Stacking approach : Averaging base models\n",
    "\n",
    "We begin with this simple approach of averaging base models. We build a new class to extend scikit-learn with our model and also to laverage encapsulation and code reuse (inheritance)"
   ]
  },
  {
   "cell_type": "code",
   "execution_count": 21,
   "metadata": {},
   "outputs": [],
   "source": [
    "class AveragingModels(BaseEstimator, RegressorMixin, TransformerMixin):\n",
    "    def __init__(self, models):\n",
    "        self.models = models\n",
    "        \n",
    "    # we define clones of the original models to fit the data in\n",
    "    def fit(self, X, y):\n",
    "        self.models_ = [clone(x) for x in self.models]\n",
    "        \n",
    "        # Train cloned base models\n",
    "        for model in self.models_:\n",
    "            model.fit(X, y)\n",
    "\n",
    "        return self\n",
    "    \n",
    "    #Now we do the predictions for cloned models and average them\n",
    "    def predict(self, X):\n",
    "        predictions = np.column_stack([\n",
    "            model.predict(X) for model in self.models_\n",
    "        ])\n",
    "        return np.mean(predictions, axis=1) "
   ]
  },
  {
   "cell_type": "markdown",
   "metadata": {},
   "source": [
    "Averaged base models score: We just average four models here ENet, GBoost, KRR and lasso. Of course we could easily add more models in the mix."
   ]
  },
  {
   "cell_type": "code",
   "execution_count": 22,
   "metadata": {
    "scrolled": true
   },
   "outputs": [
    {
     "name": "stdout",
     "output_type": "stream",
     "text": [
      "CV score: 0.7635 (0.0099) \n"
     ]
    }
   ],
   "source": [
    "averaged_models = AveragingModels(models = (XGBR, LGBM))\n",
    "\n",
    "score = rmsne_cv(averaged_models)\n",
    "print(\"CV score: {:.4f} ({:.4f}) \".format(score.mean(), score.std()))"
   ]
  },
  {
   "cell_type": "markdown",
   "metadata": {},
   "source": [
    "- __Stacking averaged Models Class (Less simple Stacking : Adding a Meta-model)__"
   ]
  },
  {
   "cell_type": "code",
   "execution_count": 23,
   "metadata": {},
   "outputs": [],
   "source": [
    "class StackingAveragedModels(BaseEstimator, RegressorMixin, TransformerMixin):\n",
    "    def __init__(self, base_models, meta_model, n_folds=5):\n",
    "        self.base_models = base_models\n",
    "        self.meta_model = meta_model\n",
    "        self.n_folds = n_folds\n",
    "   \n",
    "    # We again fit the data on clones of the original models\n",
    "    def fit(self, X, y):\n",
    "        self.base_models_ = [list() for x in self.base_models]\n",
    "        self.meta_model_ = clone(self.meta_model)\n",
    "        kfold = KFold(n_splits=self.n_folds, shuffle=True, random_state=156)\n",
    "        \n",
    "        # Train cloned base models then create out-of-fold predictions\n",
    "        # that are needed to train the cloned meta-model\n",
    "        out_of_fold_predictions = np.zeros((X.shape[0], len(self.base_models)))\n",
    "        for i, model in enumerate(self.base_models):\n",
    "            for train_index, holdout_index in kfold.split(X, y):\n",
    "                instance = clone(model)\n",
    "                self.base_models_[i].append(instance)\n",
    "                instance.fit(X[train_index], y[train_index])\n",
    "                y_pred = instance.predict(X[holdout_index])\n",
    "                out_of_fold_predictions[holdout_index, i] = y_pred\n",
    "                \n",
    "        # Now train the cloned  meta-model using the out-of-fold predictions as new feature\n",
    "        self.meta_model_.fit(out_of_fold_predictions, y)\n",
    "        return self\n",
    "   \n",
    "    #Do the predictions of all base models on the test data and use the averaged predictions as \n",
    "    #meta-features for the final prediction which is done by the meta-model\n",
    "    def predict(self, X):\n",
    "        meta_features = np.column_stack([\n",
    "            np.column_stack([model.predict(X) for model in base_models]).mean(axis=1)\n",
    "            for base_models in self.base_models_ ])\n",
    "        return self.meta_model_.predict(meta_features)"
   ]
  },
  {
   "cell_type": "code",
   "execution_count": 24,
   "metadata": {
    "scrolled": true
   },
   "outputs": [
    {
     "name": "stdout",
     "output_type": "stream",
     "text": [
      "CV score: 0.7623 (0.0101) \n"
     ]
    }
   ],
   "source": [
    "Ridge = linear_model.Ridge(alpha = 0.5)\n",
    "stacked_averaged_models = StackingAveragedModels(base_models = (LGBM, XGBR), meta_model = Ridge)\n",
    "\n",
    "score = rmsne_cv(stacked_averaged_models)\n",
    "print(\"CV score: {:.4f} ({:.4f}) \".format(score.mean(), score.std()))"
   ]
  },
  {
   "cell_type": "markdown",
   "metadata": {},
   "source": [
    "### 4. Ensembling StackedRegressor, XGBoost and LightGBM"
   ]
  },
  {
   "cell_type": "markdown",
   "metadata": {},
   "source": [
    "We add XGBoost and LightGBM to the StackedRegressor defined previously"
   ]
  },
  {
   "cell_type": "markdown",
   "metadata": {},
   "source": [
    "__Final Training and Prediction__\n"
   ]
  },
  {
   "cell_type": "code",
   "execution_count": 25,
   "metadata": {
    "scrolled": true
   },
   "outputs": [
    {
     "name": "stdout",
     "output_type": "stream",
     "text": [
      "Model score on the test set: 0.7539\n"
     ]
    }
   ],
   "source": [
    "# StackedRegressor\n",
    "STACK = stacked_averaged_models.fit(X_train, y_train)\n",
    "stacked_pred = STACK.predict(X_test)\n",
    "print(\"Model score on the test set: {:.4f}\".format(rmsne(y_test, stacked_pred)))"
   ]
  },
  {
   "cell_type": "code",
   "execution_count": 26,
   "metadata": {},
   "outputs": [
    {
     "name": "stdout",
     "output_type": "stream",
     "text": [
      "Model score on the test set: 0.7548\n"
     ]
    }
   ],
   "source": [
    "# XGBoost\n",
    "XGBR = XGBR.fit(X_train, y_train)\n",
    "xgb_pred = XGBR.predict(X_test)\n",
    "print(\"Model score on the test set: {:.4f}\".format(rmsne(y_test, xgb_pred)))"
   ]
  },
  {
   "cell_type": "code",
   "execution_count": 27,
   "metadata": {},
   "outputs": [
    {
     "name": "stdout",
     "output_type": "stream",
     "text": [
      "Model score on the test set: 0.7614\n"
     ]
    }
   ],
   "source": [
    "# LightGBM\n",
    "LGBM = LGBM.fit(X_train, y_train)\n",
    "lgb_pred = LGBM.predict(X_test)\n",
    "print(\"Model score on the test set: {:.4f}\".format(rmsne(y_test, lgb_pred)))"
   ]
  },
  {
   "cell_type": "code",
   "execution_count": 28,
   "metadata": {
    "scrolled": true
   },
   "outputs": [
    {
     "name": "stdout",
     "output_type": "stream",
     "text": [
      "Model score on the test set: 0.7543\n"
     ]
    }
   ],
   "source": [
    "# Emsemble prediction\n",
    "ensemble = stacked_pred*0.60 + xgb_pred*0.20 + lgb_pred*0.20\n",
    "print(\"Model score on the test set: {:.4f}\".format(rmsne(y_test, ensemble)))"
   ]
  },
  {
   "cell_type": "code",
   "execution_count": 29,
   "metadata": {},
   "outputs": [],
   "source": [
    "# transform the target lables and predictions back to the original scale\n",
    "y_pred_restored = restore(ensemble)\n",
    "y_test_restored = restore(y_test)"
   ]
  },
  {
   "cell_type": "markdown",
   "metadata": {},
   "source": [
    "# PART III: Visualization of the prediction results"
   ]
  },
  {
   "cell_type": "code",
   "execution_count": 30,
   "metadata": {
    "scrolled": false
   },
   "outputs": [
    {
     "data": {
      "text/html": [
       "<div>\n",
       "<style scoped>\n",
       "    .dataframe tbody tr th:only-of-type {\n",
       "        vertical-align: middle;\n",
       "    }\n",
       "\n",
       "    .dataframe tbody tr th {\n",
       "        vertical-align: top;\n",
       "    }\n",
       "\n",
       "    .dataframe thead th {\n",
       "        text-align: right;\n",
       "    }\n",
       "</style>\n",
       "<table border=\"1\" class=\"dataframe\">\n",
       "  <thead>\n",
       "    <tr style=\"text-align: right;\">\n",
       "      <th></th>\n",
       "      <th>True score</th>\n",
       "      <th>Predicted score</th>\n",
       "      <th>Percentage error (%)</th>\n",
       "    </tr>\n",
       "  </thead>\n",
       "  <tbody>\n",
       "    <tr>\n",
       "      <th>count</th>\n",
       "      <td>5354.000</td>\n",
       "      <td>5354.000</td>\n",
       "      <td>5354.000</td>\n",
       "    </tr>\n",
       "    <tr>\n",
       "      <th>mean</th>\n",
       "      <td>1467.573</td>\n",
       "      <td>1466.805</td>\n",
       "      <td>5.875</td>\n",
       "    </tr>\n",
       "    <tr>\n",
       "      <th>std</th>\n",
       "      <td>146.752</td>\n",
       "      <td>95.306</td>\n",
       "      <td>4.800</td>\n",
       "    </tr>\n",
       "    <tr>\n",
       "      <th>min</th>\n",
       "      <td>850.000</td>\n",
       "      <td>1171.076</td>\n",
       "      <td>0.001</td>\n",
       "    </tr>\n",
       "    <tr>\n",
       "      <th>25%</th>\n",
       "      <td>1362.000</td>\n",
       "      <td>1399.250</td>\n",
       "      <td>2.212</td>\n",
       "    </tr>\n",
       "    <tr>\n",
       "      <th>50%</th>\n",
       "      <td>1462.000</td>\n",
       "      <td>1470.507</td>\n",
       "      <td>4.747</td>\n",
       "    </tr>\n",
       "    <tr>\n",
       "      <th>75%</th>\n",
       "      <td>1562.000</td>\n",
       "      <td>1532.481</td>\n",
       "      <td>8.346</td>\n",
       "    </tr>\n",
       "    <tr>\n",
       "      <th>max</th>\n",
       "      <td>2017.000</td>\n",
       "      <td>1823.737</td>\n",
       "      <td>54.093</td>\n",
       "    </tr>\n",
       "  </tbody>\n",
       "</table>\n",
       "</div>"
      ],
      "text/plain": [
       "       True score  Predicted score  Percentage error (%)\n",
       "count    5354.000         5354.000              5354.000\n",
       "mean     1467.573         1466.805                 5.875\n",
       "std       146.752           95.306                 4.800\n",
       "min       850.000         1171.076                 0.001\n",
       "25%      1362.000         1399.250                 2.212\n",
       "50%      1462.000         1470.507                 4.747\n",
       "75%      1562.000         1532.481                 8.346\n",
       "max      2017.000         1823.737                54.093"
      ]
     },
     "execution_count": 30,
     "metadata": {},
     "output_type": "execute_result"
    }
   ],
   "source": [
    "# Table visualization\n",
    "per_error = (np.absolute(y_pred_restored - y_test_restored) / y_test_restored) * 100\n",
    "chart = pd.DataFrame()\n",
    "chart[\"True score\"] = y_test_restored\n",
    "chart[\"Predicted score\"] = y_pred_restored\n",
    "chart[\"Percentage error (%)\"] = per_error\n",
    "chart = chart.sort_index()\n",
    "chart.describe()"
   ]
  },
  {
   "cell_type": "markdown",
   "metadata": {},
   "source": [
    "Alternative performance measure: $E = \\dfrac{||True - Predicted||^2}{||True||^2}$ or $E = \\dfrac{||True - Predicted||}{||True||}$. \n",
    "Good single value performance measure but can't be applied interval estimate."
   ]
  },
  {
   "cell_type": "code",
   "execution_count": 31,
   "metadata": {},
   "outputs": [
    {
     "data": {
      "text/plain": [
       "5.851979840959442"
      ]
     },
     "execution_count": 31,
     "metadata": {},
     "output_type": "execute_result"
    }
   ],
   "source": [
    "np.absolute(y_pred_restored - y_test_restored).sum() / np.absolute(y_test_restored).sum() *100"
   ]
  },
  {
   "cell_type": "code",
   "execution_count": 32,
   "metadata": {
    "scrolled": true
   },
   "outputs": [
    {
     "data": {
      "image/png": "[encoded data removed]",
      "text/plain": [
       "<Figure size 1080x360 with 1 Axes>"
      ]
     },
     "metadata": {},
     "output_type": "display_data"
    }
   ],
   "source": [
    "# Draw the percentage error \n",
    "plt.figure(figsize=(15,5))\n",
    "plt.plot(chart[\"Percentage error (%)\"], \"r.\", label=\"Percentage error\")\n",
    "plt.xlabel(\"Student Index\")\n",
    "plt.ylabel(\"Percentage Error (%)\")\n",
    "#plt.ylim(0, 50)\n",
    "plt.title(\"Percentage Error of the prediction for students in the test set\")\n",
    "plt.text(5000, 52,'$\\mu$ = {:2.2f}\\n$\\sigma$ = {:2.2f}'.format(per_error.mean(), per_error.std()), bbox=dict(facecolor=\"red\", alpha=0.5),fontsize=12 )\n",
    "plt.show()"
   ]
  },
  {
   "cell_type": "markdown",
   "metadata": {},
   "source": [
    "# PART IV: From regression to classification"
   ]
  },
  {
   "cell_type": "markdown",
   "metadata": {},
   "source": [
    "- At Risk (Below Grade Level Performance) binary classification"
   ]
  },
  {
   "cell_type": "code",
   "execution_count": 33,
   "metadata": {},
   "outputs": [],
   "source": [
    "# Create a dataframe A that contains all the necessary info for score-indicator transformation\n",
    "A = pd.DataFrame()\n",
    "A[\"Grade\"] = X_test[:,0]\n",
    "A[\"y_test\"] = y_test_restored\n",
    "A[\"y_pred\"] = y_pred_restored\n",
    "A[\"AtRisk_true\"] = pd.Series(np.zeros(len(A)), index=A.index)\n",
    "A[\"AtRisk_pred\"] = pd.Series(np.zeros(len(A)), index=A.index)"
   ]
  },
  {
   "cell_type": "code",
   "execution_count": 34,
   "metadata": {},
   "outputs": [],
   "source": [
    "# Map score to classification indicator\n",
    "for i in range(len(A)):\n",
    "    if A.iloc[i, 0] == 3: # Grade \n",
    "        A.iloc[i, 3] = (A.iloc[i, 1] <= 1345).astype(int)\n",
    "        A.iloc[i, 4] = (A.iloc[i, 2] <= 1345).astype(int)\n",
    "    elif A.iloc[i, 0] == 4: # Grade \n",
    "        A.iloc[i, 3] = (A.iloc[i, 1] <= 1434).astype(int)\n",
    "        A.iloc[i, 4] = (A.iloc[i, 2] <= 1434).astype(int)\n",
    "    elif A.iloc[i, 0] == 5: # Grade \n",
    "        A.iloc[i, 3] = (A.iloc[i, 1] <= 1470).astype(int)\n",
    "        A.iloc[i, 4] = (A.iloc[i, 2] <= 1470).astype(int)\n",
    "    elif A.iloc[i, 0] == 6: # Grade \n",
    "        A.iloc[i, 3] = (A.iloc[i, 1] <= 1517).astype(int)\n",
    "        A.iloc[i, 4] = (A.iloc[i, 2] <= 1517).astype(int)\n",
    "    elif A.iloc[i, 0] == 7: # Grade \n",
    "        A.iloc[i, 3] = (A.iloc[i, 1] <= 1567).astype(int)\n",
    "        A.iloc[i, 4] = (A.iloc[i, 2] <= 1567).astype(int)\n",
    "    elif A.iloc[i, 0] == 8: # Grade \n",
    "        A.iloc[i, 3] = (A.iloc[i, 1] <= 1587).astype(int)\n",
    "        A.iloc[i, 4] = (A.iloc[i, 2] <= 1587).astype(int)"
   ]
  },
  {
   "cell_type": "code",
   "execution_count": 35,
   "metadata": {
    "scrolled": true
   },
   "outputs": [
    {
     "data": {
      "text/html": [
       "<div>\n",
       "<style scoped>\n",
       "    .dataframe tbody tr th:only-of-type {\n",
       "        vertical-align: middle;\n",
       "    }\n",
       "\n",
       "    .dataframe tbody tr th {\n",
       "        vertical-align: top;\n",
       "    }\n",
       "\n",
       "    .dataframe thead th {\n",
       "        text-align: right;\n",
       "    }\n",
       "</style>\n",
       "<table border=\"1\" class=\"dataframe\">\n",
       "  <thead>\n",
       "    <tr style=\"text-align: right;\">\n",
       "      <th></th>\n",
       "      <th>Grade</th>\n",
       "      <th>y_test</th>\n",
       "      <th>y_pred</th>\n",
       "      <th>AtRisk_true</th>\n",
       "      <th>AtRisk_pred</th>\n",
       "    </tr>\n",
       "  </thead>\n",
       "  <tbody>\n",
       "    <tr>\n",
       "      <th>count</th>\n",
       "      <td>5354.000</td>\n",
       "      <td>5354.000</td>\n",
       "      <td>5354.000</td>\n",
       "      <td>5354.000</td>\n",
       "      <td>5354.000</td>\n",
       "    </tr>\n",
       "    <tr>\n",
       "      <th>mean</th>\n",
       "      <td>4.770</td>\n",
       "      <td>1467.573</td>\n",
       "      <td>1466.805</td>\n",
       "      <td>0.512</td>\n",
       "      <td>0.413</td>\n",
       "    </tr>\n",
       "    <tr>\n",
       "      <th>std</th>\n",
       "      <td>1.550</td>\n",
       "      <td>146.752</td>\n",
       "      <td>95.306</td>\n",
       "      <td>0.500</td>\n",
       "      <td>0.492</td>\n",
       "    </tr>\n",
       "    <tr>\n",
       "      <th>min</th>\n",
       "      <td>3.000</td>\n",
       "      <td>850.000</td>\n",
       "      <td>1171.076</td>\n",
       "      <td>0.000</td>\n",
       "      <td>0.000</td>\n",
       "    </tr>\n",
       "    <tr>\n",
       "      <th>25%</th>\n",
       "      <td>4.000</td>\n",
       "      <td>1362.000</td>\n",
       "      <td>1399.250</td>\n",
       "      <td>0.000</td>\n",
       "      <td>0.000</td>\n",
       "    </tr>\n",
       "    <tr>\n",
       "      <th>50%</th>\n",
       "      <td>5.000</td>\n",
       "      <td>1462.000</td>\n",
       "      <td>1470.507</td>\n",
       "      <td>1.000</td>\n",
       "      <td>0.000</td>\n",
       "    </tr>\n",
       "    <tr>\n",
       "      <th>75%</th>\n",
       "      <td>6.000</td>\n",
       "      <td>1562.000</td>\n",
       "      <td>1532.481</td>\n",
       "      <td>1.000</td>\n",
       "      <td>1.000</td>\n",
       "    </tr>\n",
       "    <tr>\n",
       "      <th>max</th>\n",
       "      <td>8.000</td>\n",
       "      <td>2017.000</td>\n",
       "      <td>1823.737</td>\n",
       "      <td>1.000</td>\n",
       "      <td>1.000</td>\n",
       "    </tr>\n",
       "  </tbody>\n",
       "</table>\n",
       "</div>"
      ],
      "text/plain": [
       "         Grade   y_test   y_pred  AtRisk_true  AtRisk_pred\n",
       "count 5354.000 5354.000 5354.000     5354.000     5354.000\n",
       "mean     4.770 1467.573 1466.805        0.512        0.413\n",
       "std      1.550  146.752   95.306        0.500        0.492\n",
       "min      3.000  850.000 1171.076        0.000        0.000\n",
       "25%      4.000 1362.000 1399.250        0.000        0.000\n",
       "50%      5.000 1462.000 1470.507        1.000        0.000\n",
       "75%      6.000 1562.000 1532.481        1.000        1.000\n",
       "max      8.000 2017.000 1823.737        1.000        1.000"
      ]
     },
     "execution_count": 35,
     "metadata": {},
     "output_type": "execute_result"
    }
   ],
   "source": [
    "A.describe()"
   ]
  },
  {
   "cell_type": "code",
   "execution_count": 36,
   "metadata": {
    "scrolled": true
   },
   "outputs": [
    {
     "name": "stdout",
     "output_type": "stream",
     "text": [
      "Below grade level performance classification:\n",
      "The baseline for classification accuracy is 51.16%\n",
      "The test classification accuracy is 70.17%\n"
     ]
    }
   ],
   "source": [
    "from sklearn.metrics import accuracy_score\n",
    "print(\"Below grade level performance classification:\")\n",
    "print(\"The baseline for classification accuracy is {:2.2%}\".format(A[\"AtRisk_true\"].sum()/len(A[\"AtRisk_true\"])))\n",
    "print(\"The test classification accuracy is {:2.2%}\".format(accuracy_score(A[\"AtRisk_true\"], A[\"AtRisk_pred\"])))"
   ]
  },
  {
   "cell_type": "markdown",
   "metadata": {},
   "source": [
    "## Analysis by grade level"
   ]
  },
  {
   "cell_type": "markdown",
   "metadata": {},
   "source": [
    "### By-grade mean"
   ]
  },
  {
   "cell_type": "code",
   "execution_count": 37,
   "metadata": {},
   "outputs": [
    {
     "name": "stdout",
     "output_type": "stream",
     "text": [
      "The predicted mean score for grade 3 is: 1382\n",
      "The predicted mean score for grade 4 is: 1446\n",
      "The predicted mean score for grade 5 is: 1512\n",
      "The predicted mean score for grade 6 is: 1471\n",
      "The predicted mean score for grade 7 is: 1538\n",
      "The predicted mean score for grade 8 is: 1570\n"
     ]
    }
   ],
   "source": [
    "# pred mean\n",
    "pred_mean_grades = []\n",
    "for i in range(3,9):\n",
    "    pred_mean = A[A[\"Grade\"] == i][\"y_pred\"].mean()\n",
    "    pred_mean_grades.append(pred_mean)\n",
    "    print(\"The predicted mean score for grade {} is: {:.4}\".format(i, format(pred_mean,\"f\")))"
   ]
  },
  {
   "cell_type": "code",
   "execution_count": 38,
   "metadata": {},
   "outputs": [
    {
     "name": "stdout",
     "output_type": "stream",
     "text": [
      "The true mean score for grade 3 is: 1382\n",
      "The true mean score for grade 4 is: 1445\n",
      "The true mean score for grade 5 is: 1514\n",
      "The true mean score for grade 6 is: 1466\n",
      "The true mean score for grade 7 is: 1540\n",
      "The true mean score for grade 8 is: 1578\n"
     ]
    }
   ],
   "source": [
    "# true mean\n",
    "true_mean_grades = []\n",
    "for i in range(3,9):\n",
    "    true_mean = A[A[\"Grade\"] == i][\"y_test\"].mean()\n",
    "    true_mean_grades.append(true_mean)\n",
    "    print(\"The true mean score for grade {} is: {:.4}\".format(i, format(true_mean, \"f\")))"
   ]
  },
  {
   "cell_type": "code",
   "execution_count": 39,
   "metadata": {
    "scrolled": true
   },
   "outputs": [
    {
     "data": {
      "image/png": "[encoded data removed]",
      "text/plain": [
       "<Figure size 720x360 with 1 Axes>"
      ]
     },
     "metadata": {},
     "output_type": "display_data"
    }
   ],
   "source": [
    "plt.figure(figsize=(10,5))\n",
    "plt.plot(pred_mean_grades, \"b\", label=\"predicted\")\n",
    "plt.plot(true_mean_grades, \"r\", label=\"observed\")\n",
    "plt.xlabel(\"Grade\")\n",
    "plt.ylabel(\"Mean score\")\n",
    "plt.title(\"Mean score by grade\")\n",
    "plt.legend()\n",
    "plt.show()"
   ]
  },
  {
   "cell_type": "code",
   "execution_count": 40,
   "metadata": {},
   "outputs": [
    {
     "data": {
      "image/png": "[encoded data removed]",
      "text/plain": [
       "<Figure size 720x360 with 1 Axes>"
      ]
     },
     "metadata": {},
     "output_type": "display_data"
    }
   ],
   "source": [
    "## fig, ax = plt.subplots()\n",
    "plt.figure(figsize=(10,5))\n",
    "bar_width = 0.35\n",
    "opacity = 0.8\n",
    "\n",
    "ind = np.arange(3,9)\n",
    "plt.bar(ind-0.5*bar_width, pred_mean_grades, bar_width, label=\"predicted\")\n",
    "plt.bar(ind+0.5*bar_width, true_mean_grades, bar_width, label=\"observed\")\n",
    "plt.xlabel(\"Grade\")\n",
    "plt.ylabel(\"Mean score\")\n",
    "plt.title(\"Mean score by grade\")\n",
    "plt.legend()\n",
    "\n",
    "for i in ind:\n",
    "    plt.text(x=i-bar_width, y=pred_mean_grades[i-3]+30, s=int(pred_mean_grades[i-3]))\n",
    "    plt.text(x=i, y=true_mean_grades[i-3]+30, s=int(true_mean_grades[i-3]))\n",
    "plt.show()"
   ]
  },
  {
   "cell_type": "markdown",
   "metadata": {},
   "source": [
    "### By-grade regression loss/error"
   ]
  },
  {
   "cell_type": "code",
   "execution_count": 41,
   "metadata": {
    "scrolled": true
   },
   "outputs": [
    {
     "name": "stdout",
     "output_type": "stream",
     "text": [
      "The regression loss/error for grade 3 is: 0.08376\n",
      "The regression loss/error for grade 4 is: 0.08117\n",
      "The regression loss/error for grade 5 is: 0.07396\n",
      "The regression loss/error for grade 6 is: 0.06578\n",
      "The regression loss/error for grade 7 is: 0.0595\n",
      "The regression loss/error for grade 8 is: 0.05974\n"
     ]
    }
   ],
   "source": [
    "errors_grades = []\n",
    "for i in range(3,9):\n",
    "    error = np.sqrt(mean_squared_error(np.log(A[A[\"Grade\"] == i][\"y_test\"]), np.log(A[A[\"Grade\"] == i][\"y_pred\"])))\n",
    "    errors_grades.append(error)\n",
    "    print(\"The regression loss/error for grade {} is: {:.4}\".format(i, error))"
   ]
  },
  {
   "cell_type": "code",
   "execution_count": 42,
   "metadata": {},
   "outputs": [
    {
     "data": {
      "image/png": "[encoded data removed]",
      "text/plain": [
       "<Figure size 720x360 with 1 Axes>"
      ]
     },
     "metadata": {},
     "output_type": "display_data"
    }
   ],
   "source": [
    "plt.figure(figsize=(10,5))\n",
    "plt.plot(range(3,9), errors_grades, \"b\", label=\"rmsle by grade\")\n",
    "plt.xlabel(\"Grade\")\n",
    "plt.ylabel(\"Root mean square error of log scores\")\n",
    "#plt.ylim(0,0.1)\n",
    "plt.title(\"Error by grade level\")\n",
    "plt.show()"
   ]
  },
  {
   "cell_type": "markdown",
   "metadata": {},
   "source": [
    "### By-grade classification accuracy"
   ]
  },
  {
   "cell_type": "code",
   "execution_count": 43,
   "metadata": {
    "scrolled": true
   },
   "outputs": [
    {
     "name": "stdout",
     "output_type": "stream",
     "text": [
      "The classification accuracy for grade 3 is: 69.69%\n",
      "The classification accuracy for grade 4 is: 67.39%\n",
      "The classification accuracy for grade 5 is: 70.74%\n",
      "The classification accuracy for grade 6 is: 75.84%\n",
      "The classification accuracy for grade 7 is: 71.63%\n",
      "The classification accuracy for grade 8 is: 70.46%\n"
     ]
    }
   ],
   "source": [
    "accuracies_grades = []\n",
    "for i in range(3,9):\n",
    "    accuracy = accuracy_score(A[A[\"Grade\"] == i][\"AtRisk_true\"], A[A[\"Grade\"] == i][\"AtRisk_pred\"])\n",
    "    accuracies_grades.append(accuracy)\n",
    "    print(\"The classification accuracy for grade {} is: {:2.2%}\".format(i, accuracy))"
   ]
  },
  {
   "cell_type": "code",
   "execution_count": 44,
   "metadata": {
    "scrolled": true
   },
   "outputs": [
    {
     "data": {
      "image/png": "[encoded data removed]",
      "text/plain": [
       "<Figure size 720x360 with 1 Axes>"
      ]
     },
     "metadata": {},
     "output_type": "display_data"
    }
   ],
   "source": [
    "plt.figure(figsize=(10,5))\n",
    "plt.plot(range(3,9), accuracies_grades, \"b\", label=\"accuracy by grade\")\n",
    "plt.xlabel(\"Grade\")\n",
    "plt.ylabel(\"Class accuracy\")\n",
    "#plt.ylim(0.7,0.9)\n",
    "plt.title(\"Class accuracy by grade level\")\n",
    "plt.show()"
   ]
  }
 ],
 "metadata": {
  "kernelspec": {
   "display_name": "Python [conda env:anaconda3]",
   "language": "python",
   "name": "conda-env-anaconda3-py"
  },
  "language_info": {
   "codemirror_mode": {
    "name": "ipython",
    "version": 3
   },
   "file_extension": ".py",
   "mimetype": "text/x-python",
   "name": "python",
   "nbconvert_exporter": "python",
   "pygments_lexer": "ipython3",
   "version": "3.6.3"
  }
 },
 "nbformat": 4,
 "nbformat_minor": 2
}
