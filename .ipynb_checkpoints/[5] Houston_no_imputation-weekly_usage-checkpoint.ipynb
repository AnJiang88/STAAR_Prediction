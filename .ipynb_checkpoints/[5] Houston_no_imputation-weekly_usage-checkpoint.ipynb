{
 "cells": [
  {
   "cell_type": "code",
   "execution_count": 1,
   "metadata": {},
   "outputs": [],
   "source": [
    "# Import necessary libraries\n",
    "import numpy as np\n",
    "import pandas as pd\n",
    "import sklearn.linear_model as lm\n",
    "from sklearn.metrics import mean_squared_error\n",
    "from sklearn import preprocessing\n",
    "%matplotlib inline\n",
    "import matplotlib.pyplot as plt\n",
    "import seaborn as sns\n",
    "color = sns.color_palette()\n",
    "sns.set_style('darkgrid')\n",
    "\n",
    "from sklearn.model_selection import cross_val_score\n",
    "from scipy import stats\n",
    "from scipy.stats import norm, skew #for some statistics\n",
    "\n",
    "pd.set_option('display.float_format', lambda x: '{:.3f}'.format(x)) #Limiting floats output to 3 decimal points"
   ]
  },
  {
   "cell_type": "markdown",
   "metadata": {},
   "source": [
    "### Load the dataset as dataframes"
   ]
  },
  {
   "cell_type": "code",
   "execution_count": 2,
   "metadata": {
    "scrolled": true
   },
   "outputs": [
    {
     "name": "stdout",
     "output_type": "stream",
     "text": [
      "The size of df_1 is: (52759, 90)\n",
      "The size of df_2 is: (104819, 56)\n"
     ]
    }
   ],
   "source": [
    "# Import the dataset and put it in pandas dataframe\n",
    "df_1 = pd.read_csv(\"Houston_Data.csv\")\n",
    "df_2 = pd.read_csv(\"HoustonWeeklyUsage.csv\")\n",
    "print(\"The size of df_1 is: {}\".format(df_1.shape))\n",
    "print(\"The size of df_2 is: {}\".format(df_2.shape))"
   ]
  },
  {
   "cell_type": "code",
   "execution_count": 3,
   "metadata": {
    "scrolled": true
   },
   "outputs": [
    {
     "name": "stdout",
     "output_type": "stream",
     "text": [
      "The size of df is: (52760, 145)\n"
     ]
    }
   ],
   "source": [
    "# Merge the dataframes together on Student_ID\n",
    "df = pd.merge(df_1, df_2, how = \"left\", on = \"Student_GUID\")\n",
    "print(\"The size of df is: {}\".format(df.shape))"
   ]
  },
  {
   "cell_type": "markdown",
   "metadata": {},
   "source": [
    "#### Check if there is any duplicate rows "
   ]
  },
  {
   "cell_type": "code",
   "execution_count": 4,
   "metadata": {
    "scrolled": true
   },
   "outputs": [
    {
     "data": {
      "text/html": [
       "<div>\n",
       "<style scoped>\n",
       "    .dataframe tbody tr th:only-of-type {\n",
       "        vertical-align: middle;\n",
       "    }\n",
       "\n",
       "    .dataframe tbody tr th {\n",
       "        vertical-align: top;\n",
       "    }\n",
       "\n",
       "    .dataframe thead th {\n",
       "        text-align: right;\n",
       "    }\n",
       "</style>\n",
       "<table border=\"1\" class=\"dataframe\">\n",
       "  <thead>\n",
       "    <tr style=\"text-align: right;\">\n",
       "      <th></th>\n",
       "      <th>Student_GUID</th>\n",
       "      <th>IL.School</th>\n",
       "      <th>Grade_1718</th>\n",
       "      <th>Gender</th>\n",
       "      <th>ELL_1718</th>\n",
       "      <th>Language.Proficiency.Level_1718</th>\n",
       "      <th>SPED_1718</th>\n",
       "      <th>Ethnicity</th>\n",
       "      <th>Attendance.Rate_1718</th>\n",
       "      <th>Total_Minutes</th>\n",
       "      <th>...</th>\n",
       "      <th>5/28/2018</th>\n",
       "      <th>6/4/2018</th>\n",
       "      <th>6/11/2018</th>\n",
       "      <th>6/18/2018</th>\n",
       "      <th>6/25/2018</th>\n",
       "      <th>7/2/2018</th>\n",
       "      <th>7/9/2018</th>\n",
       "      <th>7/16/2018</th>\n",
       "      <th>7/23/2018</th>\n",
       "      <th>7/30/2018</th>\n",
       "    </tr>\n",
       "  </thead>\n",
       "  <tbody>\n",
       "    <tr>\n",
       "      <th>3287</th>\n",
       "      <td>62a9f8a4-0afb-4c72-a33b-27b86124282f</td>\n",
       "      <td>Henry Middle School (052)</td>\n",
       "      <td>6</td>\n",
       "      <td>0.000</td>\n",
       "      <td>0.000</td>\n",
       "      <td>NaN</td>\n",
       "      <td>1.000</td>\n",
       "      <td>Hispanic Latino of any race</td>\n",
       "      <td>0.942</td>\n",
       "      <td>1208.631</td>\n",
       "      <td>...</td>\n",
       "      <td>nan</td>\n",
       "      <td>nan</td>\n",
       "      <td>nan</td>\n",
       "      <td>nan</td>\n",
       "      <td>nan</td>\n",
       "      <td>nan</td>\n",
       "      <td>nan</td>\n",
       "      <td>nan</td>\n",
       "      <td>nan</td>\n",
       "      <td>nan</td>\n",
       "    </tr>\n",
       "    <tr>\n",
       "      <th>3288</th>\n",
       "      <td>62a9f8a4-0afb-4c72-a33b-27b86124282f</td>\n",
       "      <td>Henry Middle School (052)</td>\n",
       "      <td>6</td>\n",
       "      <td>0.000</td>\n",
       "      <td>0.000</td>\n",
       "      <td>NaN</td>\n",
       "      <td>1.000</td>\n",
       "      <td>Hispanic Latino of any race</td>\n",
       "      <td>0.942</td>\n",
       "      <td>1208.631</td>\n",
       "      <td>...</td>\n",
       "      <td>nan</td>\n",
       "      <td>nan</td>\n",
       "      <td>nan</td>\n",
       "      <td>nan</td>\n",
       "      <td>nan</td>\n",
       "      <td>nan</td>\n",
       "      <td>nan</td>\n",
       "      <td>nan</td>\n",
       "      <td>nan</td>\n",
       "      <td>nan</td>\n",
       "    </tr>\n",
       "  </tbody>\n",
       "</table>\n",
       "<p>2 rows × 145 columns</p>\n",
       "</div>"
      ],
      "text/plain": [
       "                              Student_GUID                  IL.School  \\\n",
       "3287  62a9f8a4-0afb-4c72-a33b-27b86124282f  Henry Middle School (052)   \n",
       "3288  62a9f8a4-0afb-4c72-a33b-27b86124282f  Henry Middle School (052)   \n",
       "\n",
       "      Grade_1718  Gender  ELL_1718 Language.Proficiency.Level_1718  SPED_1718  \\\n",
       "3287           6   0.000     0.000                             NaN      1.000   \n",
       "3288           6   0.000     0.000                             NaN      1.000   \n",
       "\n",
       "                        Ethnicity  Attendance.Rate_1718  Total_Minutes  \\\n",
       "3287  Hispanic Latino of any race                 0.942       1208.631   \n",
       "3288  Hispanic Latino of any race                 0.942       1208.631   \n",
       "\n",
       "        ...     5/28/2018  6/4/2018 6/11/2018  6/18/2018  6/25/2018 7/2/2018  \\\n",
       "3287    ...           nan       nan       nan        nan        nan      nan   \n",
       "3288    ...           nan       nan       nan        nan        nan      nan   \n",
       "\n",
       "      7/9/2018  7/16/2018 7/23/2018 7/30/2018  \n",
       "3287       nan        nan       nan       nan  \n",
       "3288       nan        nan       nan       nan  \n",
       "\n",
       "[2 rows x 145 columns]"
      ]
     },
     "execution_count": 4,
     "metadata": {},
     "output_type": "execute_result"
    }
   ],
   "source": [
    "pd.concat(g for _, g in df.groupby(\"Student_GUID\") if len(g) > 1)"
   ]
  },
  {
   "cell_type": "markdown",
   "metadata": {},
   "source": [
    "#### Delete unneccessary rows  "
   ]
  },
  {
   "cell_type": "code",
   "execution_count": 5,
   "metadata": {
    "scrolled": true
   },
   "outputs": [
    {
     "name": "stdout",
     "output_type": "stream",
     "text": [
      "The size of df is: (28594, 145)\n"
     ]
    }
   ],
   "source": [
    "# Delete the duplicate row\n",
    "df = df.drop([3288])\n",
    "# Delete the students with Grade = -1, 0, 1, 2\n",
    "df = df.drop(df[(df[\"Grade_1718\"] >= -1).multiply(df[\"Grade_1718\"] <= 2)].index)\n",
    "# Delete the students with Grade = 9, 10, 11, 12 because they are taking EOC instead of reading tests in STAAR\n",
    "df = df.drop(df[(df[\"Grade_1718\"] >= 9).multiply(df[\"Grade_1718\"] <= 12)].index)\n",
    "print(\"The size of df is: {}\".format(df.shape))"
   ]
  },
  {
   "cell_type": "code",
   "execution_count": 6,
   "metadata": {},
   "outputs": [],
   "source": [
    "# Save the 'Id' column\n",
    "df_id = df[\"Student_GUID\"]"
   ]
  },
  {
   "cell_type": "code",
   "execution_count": 7,
   "metadata": {},
   "outputs": [],
   "source": [
    "# Extract the desired features and labels \n",
    "df_demographics = df[[\"IL.School\", \"Grade_1718\", \"Gender\", \"ELL_1718\", \"SPED_1718\", \"Ethnicity\", \"Attendance.Rate_1718\"]]\n",
    "#df_usage = pd.concat([df[\"Total_Minutes\"], df.iloc[:, 29:]], axis = 1)\n",
    "df_usage = df.iloc[:, 29:]\n",
    "#df_Benchmark = pd.concat([df.iloc[:, 10:12], df.iloc[:, 13:15], df.iloc[:, 16:18]], axis=1)\n",
    "df_Benchmark = df.iloc[:,10:19]\n",
    "df_STAAR_1617 = df[\"Reading.Scale.Score_1617\"]\n",
    "df_STAAR_1718 = df[\"Reading.Scale.Score_1718\"]"
   ]
  },
  {
   "cell_type": "code",
   "execution_count": 8,
   "metadata": {},
   "outputs": [],
   "source": [
    "# Impute the missing data in usage columns with 0. We assume the missing is due to no usage.\n",
    "df_usage = df_usage.fillna(0)"
   ]
  },
  {
   "cell_type": "code",
   "execution_count": 9,
   "metadata": {
    "scrolled": true
   },
   "outputs": [
    {
     "name": "stdout",
     "output_type": "stream",
     "text": [
      "The size of data is: (28594, 134)\n"
     ]
    }
   ],
   "source": [
    "# Bring them all together\n",
    "data = pd.concat([df_demographics, df_usage, df_Benchmark, df_STAAR_1617, df_STAAR_1718], axis = 1)\n",
    "print(\"The size of data is: {}\".format(data.shape))"
   ]
  },
  {
   "cell_type": "markdown",
   "metadata": {},
   "source": [
    "# PART I: DATA PREPROCESSING"
   ]
  },
  {
   "cell_type": "markdown",
   "metadata": {},
   "source": [
    "## Data statistics"
   ]
  },
  {
   "cell_type": "code",
   "execution_count": 10,
   "metadata": {
    "scrolled": true
   },
   "outputs": [
    {
     "name": "stdout",
     "output_type": "stream",
     "text": [
      "IL.School                           object\n",
      "Grade_1718                           int64\n",
      "Gender                             float64\n",
      "ELL_1718                           float64\n",
      "SPED_1718                          float64\n",
      "Ethnicity                           object\n",
      "Attendance.Rate_1718               float64\n",
      "Literacy_LessonsWorked             float64\n",
      "Literacy_LessonsCompleted          float64\n",
      "Literacy_LessonsPassed             float64\n",
      "Literacy_MostRecentLesson          float64\n",
      "Language_LessonsWorked             float64\n",
      "Language_LessonsCompleted          float64\n",
      "Language_LessonsPassed             float64\n",
      "Language_MostRecentLesson          float64\n",
      "Cloze_LessonsWorked                float64\n",
      "Cloze_LessonsCompleted             float64\n",
      "Cloze_LessonsPassed                float64\n",
      "Cloze_MostRecentLesson             float64\n",
      "Grammar_LessonsWorked              float64\n",
      "Grammar_LessonsCompleted           float64\n",
      "Grammar_LessonsPassed              float64\n",
      "Grammar_MostRecentLesson           float64\n",
      "PhowarenessOne_LessonsWorked       float64\n",
      "PhowarenessOne_LessonsCompleted    float64\n",
      "PhowarenessOne_LessonsPassed       float64\n",
      "PhowarenessOne_MostRecentLesson    float64\n",
      "PhowarenessTwo_LessonsWorked       float64\n",
      "PhowarenessTwo_LessonsCompleted    float64\n",
      "PhowarenessTwo_LessonsPassed       float64\n",
      "                                    ...   \n",
      "3/26/2018                          float64\n",
      "4/2/2018                           float64\n",
      "4/9/2018                           float64\n",
      "4/16/2018                          float64\n",
      "4/23/2018                          float64\n",
      "4/30/2018                          float64\n",
      "5/7/2018                           float64\n",
      "5/14/2018                          float64\n",
      "5/21/2018                          float64\n",
      "5/28/2018                          float64\n",
      "6/4/2018                           float64\n",
      "6/11/2018                          float64\n",
      "6/18/2018                          float64\n",
      "6/25/2018                          float64\n",
      "7/2/2018                           float64\n",
      "7/9/2018                           float64\n",
      "7/16/2018                          float64\n",
      "7/23/2018                          float64\n",
      "7/30/2018                          float64\n",
      "Benchmark_Literacy_BOY_Score       float64\n",
      "Benchmark_Vocab_BOY_Score          float64\n",
      "Benchmark_BOY_Date                  object\n",
      "Benchmark_Literacy_MOY_Score       float64\n",
      "Benchmark_Vocab_MOY_Score          float64\n",
      "Benchmark_MOY_Date                  object\n",
      "Benchmark_Literacy_EOY_Score       float64\n",
      "Benchmark_Vocab_EOY_Score          float64\n",
      "Benchmark_EOY_Date                  object\n",
      "Reading.Scale.Score_1617           float64\n",
      "Reading.Scale.Score_1718           float64\n",
      "Length: 134, dtype: object\n"
     ]
    }
   ],
   "source": [
    "print(data.dtypes)"
   ]
  },
  {
   "cell_type": "markdown",
   "metadata": {},
   "source": [
    "### Outliers"
   ]
  },
  {
   "cell_type": "code",
   "execution_count": 11,
   "metadata": {},
   "outputs": [
    {
     "data": {
      "image/png": "[encoded data removed]",
      "text/plain": [
       "<Figure size 432x288 with 1 Axes>"
      ]
     },
     "metadata": {},
     "output_type": "display_data"
    }
   ],
   "source": [
    "fig, ax = plt.subplots()\n",
    "ax.scatter(x = data['Reading.Scale.Score_1617'], y = data['Reading.Scale.Score_1718'])\n",
    "plt.ylabel('STAAR_1718', fontsize=13)\n",
    "plt.xlabel('STAAR_1617', fontsize=13)\n",
    "plt.show()"
   ]
  },
  {
   "cell_type": "code",
   "execution_count": 12,
   "metadata": {
    "scrolled": true
   },
   "outputs": [
    {
     "data": {
      "image/png": "[encoded data removed]",
      "text/plain": [
       "<Figure size 432x288 with 1 Axes>"
      ]
     },
     "metadata": {},
     "output_type": "display_data"
    }
   ],
   "source": [
    "fig, ax = plt.subplots()\n",
    "ax.scatter(x = data['Benchmark_Vocab_EOY_Score'], y = data['Reading.Scale.Score_1718'])\n",
    "plt.ylabel('STAAR_1718', fontsize=13)\n",
    "plt.xlabel('Benchmark_Vocab_EOY_Score', fontsize=13)\n",
    "plt.show()"
   ]
  },
  {
   "cell_type": "code",
   "execution_count": 13,
   "metadata": {
    "scrolled": true
   },
   "outputs": [
    {
     "data": {
      "image/png": "[encoded data removed]",
      "text/plain": [
       "<Figure size 432x288 with 1 Axes>"
      ]
     },
     "metadata": {},
     "output_type": "display_data"
    }
   ],
   "source": [
    "fig, ax = plt.subplots()\n",
    "ax.scatter(x = data['Grade_1718'], y = data['Reading.Scale.Score_1718'])\n",
    "plt.ylabel('STAAR_1718', fontsize=13)\n",
    "plt.xlabel('Grade', fontsize=13)\n",
    "plt.show()"
   ]
  },
  {
   "cell_type": "code",
   "execution_count": 14,
   "metadata": {
    "scrolled": false
   },
   "outputs": [
    {
     "data": {
      "image/png": "[encoded data removed]",
      "text/plain": [
       "<Figure size 432x288 with 1 Axes>"
      ]
     },
     "metadata": {},
     "output_type": "display_data"
    }
   ],
   "source": [
    "fig, ax = plt.subplots()\n",
    "ax.scatter(x = data['Gender'], y = data['Reading.Scale.Score_1718'])\n",
    "plt.ylabel('STAAR_1718', fontsize=13)\n",
    "plt.xlabel('Gender', fontsize=13)\n",
    "plt.show()"
   ]
  },
  {
   "cell_type": "code",
   "execution_count": 15,
   "metadata": {},
   "outputs": [
    {
     "data": {
      "text/plain": [
       "Gender\n",
       "0.000   1452.262\n",
       "1.000   1477.867\n",
       "Name: Reading.Scale.Score_1718, dtype: float64"
      ]
     },
     "execution_count": 15,
     "metadata": {},
     "output_type": "execute_result"
    }
   ],
   "source": [
    "data.groupby(data[\"Gender\"])[\"Reading.Scale.Score_1718\"].mean()"
   ]
  },
  {
   "cell_type": "markdown",
   "metadata": {
    "scrolled": true
   },
   "source": [
    "## Feature engineering"
   ]
  },
  {
   "cell_type": "markdown",
   "metadata": {},
   "source": [
    "### Missing data"
   ]
  },
  {
   "cell_type": "code",
   "execution_count": 16,
   "metadata": {
    "scrolled": false
   },
   "outputs": [
    {
     "data": {
      "text/html": [
       "<div>\n",
       "<style scoped>\n",
       "    .dataframe tbody tr th:only-of-type {\n",
       "        vertical-align: middle;\n",
       "    }\n",
       "\n",
       "    .dataframe tbody tr th {\n",
       "        vertical-align: top;\n",
       "    }\n",
       "\n",
       "    .dataframe thead th {\n",
       "        text-align: right;\n",
       "    }\n",
       "</style>\n",
       "<table border=\"1\" class=\"dataframe\">\n",
       "  <thead>\n",
       "    <tr style=\"text-align: right;\">\n",
       "      <th></th>\n",
       "      <th>Missing Ratio (%)</th>\n",
       "    </tr>\n",
       "  </thead>\n",
       "  <tbody>\n",
       "    <tr>\n",
       "      <th>Benchmark_Vocab_EOY_Score</th>\n",
       "      <td>73.823</td>\n",
       "    </tr>\n",
       "    <tr>\n",
       "      <th>Benchmark_Literacy_EOY_Score</th>\n",
       "      <td>65.045</td>\n",
       "    </tr>\n",
       "    <tr>\n",
       "      <th>Benchmark_EOY_Date</th>\n",
       "      <td>65.014</td>\n",
       "    </tr>\n",
       "    <tr>\n",
       "      <th>Benchmark_BOY_Date</th>\n",
       "      <td>61.793</td>\n",
       "    </tr>\n",
       "    <tr>\n",
       "      <th>Benchmark_Vocab_BOY_Score</th>\n",
       "      <td>61.793</td>\n",
       "    </tr>\n",
       "    <tr>\n",
       "      <th>Benchmark_Literacy_BOY_Score</th>\n",
       "      <td>61.793</td>\n",
       "    </tr>\n",
       "    <tr>\n",
       "      <th>Benchmark_Vocab_MOY_Score</th>\n",
       "      <td>46.429</td>\n",
       "    </tr>\n",
       "    <tr>\n",
       "      <th>Benchmark_Literacy_MOY_Score</th>\n",
       "      <td>40.578</td>\n",
       "    </tr>\n",
       "    <tr>\n",
       "      <th>Benchmark_MOY_Date</th>\n",
       "      <td>40.418</td>\n",
       "    </tr>\n",
       "    <tr>\n",
       "      <th>Reading.Scale.Score_1617</th>\n",
       "      <td>36.973</td>\n",
       "    </tr>\n",
       "    <tr>\n",
       "      <th>Reading.Scale.Score_1718</th>\n",
       "      <td>6.386</td>\n",
       "    </tr>\n",
       "    <tr>\n",
       "      <th>Attendance.Rate_1718</th>\n",
       "      <td>0.112</td>\n",
       "    </tr>\n",
       "    <tr>\n",
       "      <th>Ethnicity</th>\n",
       "      <td>0.045</td>\n",
       "    </tr>\n",
       "    <tr>\n",
       "      <th>SPED_1718</th>\n",
       "      <td>0.045</td>\n",
       "    </tr>\n",
       "    <tr>\n",
       "      <th>ELL_1718</th>\n",
       "      <td>0.045</td>\n",
       "    </tr>\n",
       "    <tr>\n",
       "      <th>Gender</th>\n",
       "      <td>0.045</td>\n",
       "    </tr>\n",
       "  </tbody>\n",
       "</table>\n",
       "</div>"
      ],
      "text/plain": [
       "                              Missing Ratio (%)\n",
       "Benchmark_Vocab_EOY_Score                73.823\n",
       "Benchmark_Literacy_EOY_Score             65.045\n",
       "Benchmark_EOY_Date                       65.014\n",
       "Benchmark_BOY_Date                       61.793\n",
       "Benchmark_Vocab_BOY_Score                61.793\n",
       "Benchmark_Literacy_BOY_Score             61.793\n",
       "Benchmark_Vocab_MOY_Score                46.429\n",
       "Benchmark_Literacy_MOY_Score             40.578\n",
       "Benchmark_MOY_Date                       40.418\n",
       "Reading.Scale.Score_1617                 36.973\n",
       "Reading.Scale.Score_1718                  6.386\n",
       "Attendance.Rate_1718                      0.112\n",
       "Ethnicity                                 0.045\n",
       "SPED_1718                                 0.045\n",
       "ELL_1718                                  0.045\n",
       "Gender                                    0.045"
      ]
     },
     "execution_count": 16,
     "metadata": {},
     "output_type": "execute_result"
    }
   ],
   "source": [
    "# Missing data for data\n",
    "data_na = (data.isnull().sum() / len(data)) * 100\n",
    "data_na = data_na.drop(data_na[data_na == 0].index).sort_values(ascending=False)\n",
    "missing_data = pd.DataFrame({'Missing Ratio (%)' :data_na})\n",
    "missing_data"
   ]
  },
  {
   "cell_type": "code",
   "execution_count": 17,
   "metadata": {
    "scrolled": true
   },
   "outputs": [
    {
     "name": "stdout",
     "output_type": "stream",
     "text": [
      "The size of data is: (26767, 134)\n"
     ]
    }
   ],
   "source": [
    "# Delete rows (student samples) without STAAR test score (Reading.Scale.Score_1718), \n",
    "# since the missing ratio of this is only 8.744%\n",
    "# Delete rows without Ethnicity, because it is impossible to impute it and the missing ratio is very small (0.003%)\n",
    "data = data.dropna(subset = [\"Reading.Scale.Score_1718\", \"Ethnicity\"])\n",
    "print(\"The size of data is: {}\".format(data.shape))"
   ]
  },
  {
   "cell_type": "markdown",
   "metadata": {},
   "source": [
    "#### Check the remaining missing values"
   ]
  },
  {
   "cell_type": "code",
   "execution_count": 18,
   "metadata": {
    "scrolled": false
   },
   "outputs": [
    {
     "data": {
      "text/html": [
       "<div>\n",
       "<style scoped>\n",
       "    .dataframe tbody tr th:only-of-type {\n",
       "        vertical-align: middle;\n",
       "    }\n",
       "\n",
       "    .dataframe tbody tr th {\n",
       "        vertical-align: top;\n",
       "    }\n",
       "\n",
       "    .dataframe thead th {\n",
       "        text-align: right;\n",
       "    }\n",
       "</style>\n",
       "<table border=\"1\" class=\"dataframe\">\n",
       "  <thead>\n",
       "    <tr style=\"text-align: right;\">\n",
       "      <th></th>\n",
       "      <th>Missing Ratio (%)</th>\n",
       "    </tr>\n",
       "  </thead>\n",
       "  <tbody>\n",
       "    <tr>\n",
       "      <th>Benchmark_Vocab_EOY_Score</th>\n",
       "      <td>72.791</td>\n",
       "    </tr>\n",
       "    <tr>\n",
       "      <th>Benchmark_Literacy_EOY_Score</th>\n",
       "      <td>63.455</td>\n",
       "    </tr>\n",
       "    <tr>\n",
       "      <th>Benchmark_EOY_Date</th>\n",
       "      <td>63.421</td>\n",
       "    </tr>\n",
       "    <tr>\n",
       "      <th>Benchmark_BOY_Date</th>\n",
       "      <td>61.957</td>\n",
       "    </tr>\n",
       "    <tr>\n",
       "      <th>Benchmark_Vocab_BOY_Score</th>\n",
       "      <td>61.957</td>\n",
       "    </tr>\n",
       "    <tr>\n",
       "      <th>Benchmark_Literacy_BOY_Score</th>\n",
       "      <td>61.957</td>\n",
       "    </tr>\n",
       "    <tr>\n",
       "      <th>Benchmark_Vocab_MOY_Score</th>\n",
       "      <td>45.283</td>\n",
       "    </tr>\n",
       "    <tr>\n",
       "      <th>Benchmark_Literacy_MOY_Score</th>\n",
       "      <td>39.171</td>\n",
       "    </tr>\n",
       "    <tr>\n",
       "      <th>Benchmark_MOY_Date</th>\n",
       "      <td>39.000</td>\n",
       "    </tr>\n",
       "    <tr>\n",
       "      <th>Reading.Scale.Score_1617</th>\n",
       "      <td>35.391</td>\n",
       "    </tr>\n",
       "  </tbody>\n",
       "</table>\n",
       "</div>"
      ],
      "text/plain": [
       "                              Missing Ratio (%)\n",
       "Benchmark_Vocab_EOY_Score                72.791\n",
       "Benchmark_Literacy_EOY_Score             63.455\n",
       "Benchmark_EOY_Date                       63.421\n",
       "Benchmark_BOY_Date                       61.957\n",
       "Benchmark_Vocab_BOY_Score                61.957\n",
       "Benchmark_Literacy_BOY_Score             61.957\n",
       "Benchmark_Vocab_MOY_Score                45.283\n",
       "Benchmark_Literacy_MOY_Score             39.171\n",
       "Benchmark_MOY_Date                       39.000\n",
       "Reading.Scale.Score_1617                 35.391"
      ]
     },
     "execution_count": 18,
     "metadata": {},
     "output_type": "execute_result"
    }
   ],
   "source": [
    "# Missing data for data\n",
    "data_na = (data.isnull().sum() / len(data)) * 100\n",
    "data_na = data_na.drop(data_na[data_na == 0].index).sort_values(ascending=False)\n",
    "missing_data = pd.DataFrame({'Missing Ratio (%)' :data_na})\n",
    "missing_data"
   ]
  },
  {
   "cell_type": "markdown",
   "metadata": {},
   "source": [
    "Imputation is not implemented."
   ]
  },
  {
   "cell_type": "markdown",
   "metadata": {},
   "source": [
    "### Label Encoding some categorical variables that may contain information in their ordering set"
   ]
  },
  {
   "cell_type": "code",
   "execution_count": 19,
   "metadata": {
    "scrolled": true
   },
   "outputs": [
    {
     "name": "stdout",
     "output_type": "stream",
     "text": [
      "Size of data: (26767, 134)\n"
     ]
    }
   ],
   "source": [
    "from sklearn.preprocessing import LabelEncoder\n",
    "cols = (\"Benchmark_BOY_Date\", \"Benchmark_MOY_Date\", \"Benchmark_EOY_Date\")\n",
    "\n",
    "for c in cols:\n",
    "    lbl = LabelEncoder()\n",
    "    lbl.fit(list(data[c].values))\n",
    "    data[c] = lbl.transform(list(data[c].values))\n",
    "    \n",
    "print(\"Size of data: {}\".format(data.shape))"
   ]
  },
  {
   "cell_type": "markdown",
   "metadata": {},
   "source": [
    "### Skewed features"
   ]
  },
  {
   "cell_type": "code",
   "execution_count": 20,
   "metadata": {},
   "outputs": [
    {
     "name": "stdout",
     "output_type": "stream",
     "text": [
      "\n",
      "Skew in numerical features: \n",
      "\n"
     ]
    },
    {
     "data": {
      "text/html": [
       "<div>\n",
       "<style scoped>\n",
       "    .dataframe tbody tr th:only-of-type {\n",
       "        vertical-align: middle;\n",
       "    }\n",
       "\n",
       "    .dataframe tbody tr th {\n",
       "        vertical-align: top;\n",
       "    }\n",
       "\n",
       "    .dataframe thead th {\n",
       "        text-align: right;\n",
       "    }\n",
       "</style>\n",
       "<table border=\"1\" class=\"dataframe\">\n",
       "  <thead>\n",
       "    <tr style=\"text-align: right;\">\n",
       "      <th></th>\n",
       "      <th>Skew</th>\n",
       "    </tr>\n",
       "  </thead>\n",
       "  <tbody>\n",
       "    <tr>\n",
       "      <th>8/14/2017</th>\n",
       "      <td>163.597</td>\n",
       "    </tr>\n",
       "    <tr>\n",
       "      <th>8/28/2017</th>\n",
       "      <td>163.597</td>\n",
       "    </tr>\n",
       "    <tr>\n",
       "      <th>9/4/2017</th>\n",
       "      <td>163.597</td>\n",
       "    </tr>\n",
       "    <tr>\n",
       "      <th>1/1/2018</th>\n",
       "      <td>55.020</td>\n",
       "    </tr>\n",
       "    <tr>\n",
       "      <th>12/25/2017</th>\n",
       "      <td>44.332</td>\n",
       "    </tr>\n",
       "    <tr>\n",
       "      <th>11/20/2017</th>\n",
       "      <td>36.602</td>\n",
       "    </tr>\n",
       "    <tr>\n",
       "      <th>PhowarenessOne_MostRecentLesson</th>\n",
       "      <td>33.021</td>\n",
       "    </tr>\n",
       "    <tr>\n",
       "      <th>PhowarenessOne_LessonsPassed</th>\n",
       "      <td>33.021</td>\n",
       "    </tr>\n",
       "    <tr>\n",
       "      <th>PhowarenessOne_LessonsCompleted</th>\n",
       "      <td>33.021</td>\n",
       "    </tr>\n",
       "    <tr>\n",
       "      <th>PhowarenessOne_LessonsWorked</th>\n",
       "      <td>33.021</td>\n",
       "    </tr>\n",
       "  </tbody>\n",
       "</table>\n",
       "</div>"
      ],
      "text/plain": [
       "                                   Skew\n",
       "8/14/2017                       163.597\n",
       "8/28/2017                       163.597\n",
       "9/4/2017                        163.597\n",
       "1/1/2018                         55.020\n",
       "12/25/2017                       44.332\n",
       "11/20/2017                       36.602\n",
       "PhowarenessOne_MostRecentLesson  33.021\n",
       "PhowarenessOne_LessonsPassed     33.021\n",
       "PhowarenessOne_LessonsCompleted  33.021\n",
       "PhowarenessOne_LessonsWorked     33.021"
      ]
     },
     "execution_count": 20,
     "metadata": {},
     "output_type": "execute_result"
    }
   ],
   "source": [
    "label = data[\"Reading.Scale.Score_1718\"]\n",
    "data.drop([\"Reading.Scale.Score_1718\"], axis=1, inplace=True)\n",
    "\n",
    "numeric_feats = data.dtypes[data.dtypes == \"float64\"].index\n",
    "\n",
    "# Check the skew of all numerical features\n",
    "skewed_feats = data[numeric_feats].apply(lambda x: skew(x.dropna())).sort_values(ascending=False)\n",
    "print(\"\\nSkew in numerical features: \\n\")\n",
    "skewness = pd.DataFrame({'Skew' :skewed_feats})\n",
    "skewness.head(10)"
   ]
  },
  {
   "cell_type": "markdown",
   "metadata": {},
   "source": [
    "#### Box Cox Transformation of (highly) skewed features"
   ]
  },
  {
   "cell_type": "code",
   "execution_count": 21,
   "metadata": {},
   "outputs": [
    {
     "name": "stdout",
     "output_type": "stream",
     "text": [
      "There are 125 skewed numerical features to Box Cox transform\n"
     ]
    }
   ],
   "source": [
    "skewness = skewness[abs(skewness) > 0.75]\n",
    "print(\"There are {} skewed numerical features to Box Cox transform\".format(skewness.shape[0]))\n",
    "\n",
    "from scipy.special import boxcox1p\n",
    "skewed_features = skewness.index\n",
    "lam = 0.15\n",
    "for feat in skewed_features:\n",
    "    data[feat] = boxcox1p(data[feat], lam)\n",
    "    \n",
    "data = pd.concat([data, label], axis=1)"
   ]
  },
  {
   "cell_type": "markdown",
   "metadata": {},
   "source": [
    "### Getting dummy categorical features (ONE-HOT VECTOR REPRESENTATION)"
   ]
  },
  {
   "cell_type": "code",
   "execution_count": 22,
   "metadata": {
    "scrolled": true
   },
   "outputs": [
    {
     "name": "stdout",
     "output_type": "stream",
     "text": [
      "The size of data is: (26767, 662)\n"
     ]
    }
   ],
   "source": [
    "# get_dummies only convert object (data type) to one-hot vectors\n",
    "data = pd.get_dummies(data)\n",
    "print(\"The size of data is: {}\".format(data.shape))"
   ]
  },
  {
   "cell_type": "code",
   "execution_count": 23,
   "metadata": {},
   "outputs": [
    {
     "data": {
      "text/html": [
       "<div>\n",
       "<style scoped>\n",
       "    .dataframe tbody tr th:only-of-type {\n",
       "        vertical-align: middle;\n",
       "    }\n",
       "\n",
       "    .dataframe tbody tr th {\n",
       "        vertical-align: top;\n",
       "    }\n",
       "\n",
       "    .dataframe thead th {\n",
       "        text-align: right;\n",
       "    }\n",
       "</style>\n",
       "<table border=\"1\" class=\"dataframe\">\n",
       "  <thead>\n",
       "    <tr style=\"text-align: right;\">\n",
       "      <th></th>\n",
       "      <th>Grade_1718</th>\n",
       "      <th>Gender</th>\n",
       "      <th>ELL_1718</th>\n",
       "      <th>SPED_1718</th>\n",
       "      <th>Attendance.Rate_1718</th>\n",
       "      <th>Literacy_LessonsWorked</th>\n",
       "      <th>Literacy_LessonsCompleted</th>\n",
       "      <th>Literacy_LessonsPassed</th>\n",
       "      <th>Literacy_MostRecentLesson</th>\n",
       "      <th>Language_LessonsWorked</th>\n",
       "      <th>...</th>\n",
       "      <th>LastSession_Date_8/15/2017</th>\n",
       "      <th>LastSession_Date_9/15/2017</th>\n",
       "      <th>LastSession_Date_9/18/2017</th>\n",
       "      <th>LastSession_Date_9/19/2017</th>\n",
       "      <th>LastSession_Date_9/20/2017</th>\n",
       "      <th>LastSession_Date_9/21/2017</th>\n",
       "      <th>LastSession_Date_9/25/2017</th>\n",
       "      <th>LastSession_Date_9/26/2017</th>\n",
       "      <th>LastSession_Date_9/28/2017</th>\n",
       "      <th>LastSession_Date_9/29/2017</th>\n",
       "    </tr>\n",
       "  </thead>\n",
       "  <tbody>\n",
       "    <tr>\n",
       "      <th>0</th>\n",
       "      <td>8</td>\n",
       "      <td>0.730</td>\n",
       "      <td>0.730</td>\n",
       "      <td>0.000</td>\n",
       "      <td>0.720</td>\n",
       "      <td>0.730</td>\n",
       "      <td>0.730</td>\n",
       "      <td>0.730</td>\n",
       "      <td>6.382</td>\n",
       "      <td>0.000</td>\n",
       "      <td>...</td>\n",
       "      <td>0</td>\n",
       "      <td>0</td>\n",
       "      <td>0</td>\n",
       "      <td>0</td>\n",
       "      <td>0</td>\n",
       "      <td>0</td>\n",
       "      <td>0</td>\n",
       "      <td>0</td>\n",
       "      <td>0</td>\n",
       "      <td>0</td>\n",
       "    </tr>\n",
       "    <tr>\n",
       "      <th>2</th>\n",
       "      <td>8</td>\n",
       "      <td>0.730</td>\n",
       "      <td>0.000</td>\n",
       "      <td>0.000</td>\n",
       "      <td>0.706</td>\n",
       "      <td>0.000</td>\n",
       "      <td>0.000</td>\n",
       "      <td>0.000</td>\n",
       "      <td>0.000</td>\n",
       "      <td>0.000</td>\n",
       "      <td>...</td>\n",
       "      <td>0</td>\n",
       "      <td>0</td>\n",
       "      <td>0</td>\n",
       "      <td>0</td>\n",
       "      <td>0</td>\n",
       "      <td>0</td>\n",
       "      <td>0</td>\n",
       "      <td>0</td>\n",
       "      <td>0</td>\n",
       "      <td>0</td>\n",
       "    </tr>\n",
       "    <tr>\n",
       "      <th>18</th>\n",
       "      <td>5</td>\n",
       "      <td>0.000</td>\n",
       "      <td>0.000</td>\n",
       "      <td>0.000</td>\n",
       "      <td>0.730</td>\n",
       "      <td>2.750</td>\n",
       "      <td>2.750</td>\n",
       "      <td>2.750</td>\n",
       "      <td>5.803</td>\n",
       "      <td>2.056</td>\n",
       "      <td>...</td>\n",
       "      <td>0</td>\n",
       "      <td>0</td>\n",
       "      <td>0</td>\n",
       "      <td>0</td>\n",
       "      <td>0</td>\n",
       "      <td>0</td>\n",
       "      <td>0</td>\n",
       "      <td>0</td>\n",
       "      <td>0</td>\n",
       "      <td>0</td>\n",
       "    </tr>\n",
       "    <tr>\n",
       "      <th>61</th>\n",
       "      <td>8</td>\n",
       "      <td>0.000</td>\n",
       "      <td>0.000</td>\n",
       "      <td>0.730</td>\n",
       "      <td>0.710</td>\n",
       "      <td>0.000</td>\n",
       "      <td>0.000</td>\n",
       "      <td>0.000</td>\n",
       "      <td>0.000</td>\n",
       "      <td>0.000</td>\n",
       "      <td>...</td>\n",
       "      <td>0</td>\n",
       "      <td>0</td>\n",
       "      <td>0</td>\n",
       "      <td>0</td>\n",
       "      <td>0</td>\n",
       "      <td>0</td>\n",
       "      <td>0</td>\n",
       "      <td>0</td>\n",
       "      <td>0</td>\n",
       "      <td>0</td>\n",
       "    </tr>\n",
       "    <tr>\n",
       "      <th>114</th>\n",
       "      <td>8</td>\n",
       "      <td>0.000</td>\n",
       "      <td>0.000</td>\n",
       "      <td>0.000</td>\n",
       "      <td>0.644</td>\n",
       "      <td>0.000</td>\n",
       "      <td>0.000</td>\n",
       "      <td>0.000</td>\n",
       "      <td>0.000</td>\n",
       "      <td>0.000</td>\n",
       "      <td>...</td>\n",
       "      <td>0</td>\n",
       "      <td>0</td>\n",
       "      <td>0</td>\n",
       "      <td>0</td>\n",
       "      <td>0</td>\n",
       "      <td>0</td>\n",
       "      <td>0</td>\n",
       "      <td>0</td>\n",
       "      <td>0</td>\n",
       "      <td>0</td>\n",
       "    </tr>\n",
       "  </tbody>\n",
       "</table>\n",
       "<p>5 rows × 662 columns</p>\n",
       "</div>"
      ],
      "text/plain": [
       "     Grade_1718  Gender  ELL_1718  SPED_1718  Attendance.Rate_1718  \\\n",
       "0             8   0.730     0.730      0.000                 0.720   \n",
       "2             8   0.730     0.000      0.000                 0.706   \n",
       "18            5   0.000     0.000      0.000                 0.730   \n",
       "61            8   0.000     0.000      0.730                 0.710   \n",
       "114           8   0.000     0.000      0.000                 0.644   \n",
       "\n",
       "     Literacy_LessonsWorked  Literacy_LessonsCompleted  \\\n",
       "0                     0.730                      0.730   \n",
       "2                     0.000                      0.000   \n",
       "18                    2.750                      2.750   \n",
       "61                    0.000                      0.000   \n",
       "114                   0.000                      0.000   \n",
       "\n",
       "     Literacy_LessonsPassed  Literacy_MostRecentLesson  \\\n",
       "0                     0.730                      6.382   \n",
       "2                     0.000                      0.000   \n",
       "18                    2.750                      5.803   \n",
       "61                    0.000                      0.000   \n",
       "114                   0.000                      0.000   \n",
       "\n",
       "     Language_LessonsWorked             ...              \\\n",
       "0                     0.000             ...               \n",
       "2                     0.000             ...               \n",
       "18                    2.056             ...               \n",
       "61                    0.000             ...               \n",
       "114                   0.000             ...               \n",
       "\n",
       "     LastSession_Date_8/15/2017  LastSession_Date_9/15/2017  \\\n",
       "0                             0                           0   \n",
       "2                             0                           0   \n",
       "18                            0                           0   \n",
       "61                            0                           0   \n",
       "114                           0                           0   \n",
       "\n",
       "     LastSession_Date_9/18/2017  LastSession_Date_9/19/2017  \\\n",
       "0                             0                           0   \n",
       "2                             0                           0   \n",
       "18                            0                           0   \n",
       "61                            0                           0   \n",
       "114                           0                           0   \n",
       "\n",
       "     LastSession_Date_9/20/2017  LastSession_Date_9/21/2017  \\\n",
       "0                             0                           0   \n",
       "2                             0                           0   \n",
       "18                            0                           0   \n",
       "61                            0                           0   \n",
       "114                           0                           0   \n",
       "\n",
       "     LastSession_Date_9/25/2017  LastSession_Date_9/26/2017  \\\n",
       "0                             0                           0   \n",
       "2                             0                           0   \n",
       "18                            0                           0   \n",
       "61                            0                           0   \n",
       "114                           0                           0   \n",
       "\n",
       "     LastSession_Date_9/28/2017  LastSession_Date_9/29/2017  \n",
       "0                             0                           0  \n",
       "2                             0                           0  \n",
       "18                            0                           0  \n",
       "61                            0                           0  \n",
       "114                           0                           0  \n",
       "\n",
       "[5 rows x 662 columns]"
      ]
     },
     "execution_count": 23,
     "metadata": {},
     "output_type": "execute_result"
    }
   ],
   "source": [
    "data.head()"
   ]
  },
  {
   "cell_type": "markdown",
   "metadata": {},
   "source": [
    "### Feature normalization"
   ]
  },
  {
   "cell_type": "code",
   "execution_count": 24,
   "metadata": {},
   "outputs": [
    {
     "name": "stdout",
     "output_type": "stream",
     "text": [
      "Target mean is [1464.54630702]. Target standard deviation is [147.59229586]\n"
     ]
    }
   ],
   "source": [
    "# Normalize the target labels only so that outcome across different imputation methods may be compared\n",
    "from sklearn import preprocessing\n",
    "array = data[\"Reading.Scale.Score_1718\"].values.reshape(-1, 1)\n",
    "scaler = preprocessing.StandardScaler().fit(array)\n",
    "data[\"Reading.Scale.Score_1718\"] = scaler.transform(array)\n",
    "\n",
    "mu = scaler.mean_\n",
    "sigma = scaler.scale_\n",
    "print(\"Target mean is {}. Target standard deviation is {}\".format(mu, sigma))"
   ]
  },
  {
   "cell_type": "markdown",
   "metadata": {},
   "source": [
    "## Getting the new training and test sets"
   ]
  },
  {
   "cell_type": "code",
   "execution_count": 25,
   "metadata": {},
   "outputs": [],
   "source": [
    "# Split features and labels\n",
    "X = data.drop([\"Reading.Scale.Score_1718\"], axis=1).values\n",
    "y = data[\"Reading.Scale.Score_1718\"].values\n",
    "# Split the training and test sets\n",
    "from sklearn.model_selection import train_test_split\n",
    "X_train, X_test, y_train, y_test = train_test_split(X, y, test_size=0.2, random_state=1)"
   ]
  },
  {
   "cell_type": "markdown",
   "metadata": {},
   "source": [
    "Note: the training and test datasets are now numpy arrays instead of pandas dataframe "
   ]
  },
  {
   "cell_type": "markdown",
   "metadata": {},
   "source": [
    "# PART II: Machine Learning Models"
   ]
  },
  {
   "cell_type": "code",
   "execution_count": 26,
   "metadata": {},
   "outputs": [],
   "source": [
    "from sklearn import linear_model\n",
    "from sklearn.ensemble import RandomForestRegressor,  GradientBoostingRegressor\n",
    "from sklearn.kernel_ridge import KernelRidge\n",
    "from sklearn.base import BaseEstimator, TransformerMixin, RegressorMixin, clone\n",
    "from sklearn.model_selection import KFold, cross_val_score, train_test_split\n",
    "from sklearn.metrics import mean_squared_error\n",
    "import xgboost as xgb\n",
    "import lightgbm as lgb"
   ]
  },
  {
   "cell_type": "markdown",
   "metadata": {},
   "source": [
    "### Define a cross validation strategy and other helper functions\n",
    "We use the cross_val_score function of Sklearn. However this function has not a shuffle attribute, we add then one line of code, in order to shuffle the dataset prior to cross-validation"
   ]
  },
  {
   "cell_type": "code",
   "execution_count": 27,
   "metadata": {},
   "outputs": [],
   "source": [
    "#Validation function\n",
    "n_folds = 5\n",
    "def rmsne_cv(model):\n",
    "    kf = KFold(n_folds, shuffle=True, random_state=1).get_n_splits(X_train)\n",
    "    rmsne= np.sqrt(-cross_val_score(model, X_train, y_train, scoring=\"neg_mean_squared_error\", cv = kf))\n",
    "    return(rmsne)"
   ]
  },
  {
   "cell_type": "code",
   "execution_count": 28,
   "metadata": {},
   "outputs": [],
   "source": [
    "# transform the target lables back to the original scale\n",
    "def restore(y):\n",
    "    return (y * sigma) + mu\n",
    "# root mean square nomalization error\n",
    "def rmsne(y, y_pred):\n",
    "    return np.sqrt(mean_squared_error(y, y_pred))"
   ]
  },
  {
   "cell_type": "markdown",
   "metadata": {},
   "source": [
    "## Base models"
   ]
  },
  {
   "cell_type": "markdown",
   "metadata": {},
   "source": [
    "### 1. Xgboost"
   ]
  },
  {
   "cell_type": "code",
   "execution_count": 29,
   "metadata": {
    "scrolled": true
   },
   "outputs": [
    {
     "name": "stdout",
     "output_type": "stream",
     "text": [
      "CV score: 0.6102 (0.0143) \n"
     ]
    }
   ],
   "source": [
    "XGBR = xgb.XGBRegressor(colsample_bytree=0.4603, gamma=0.0468, \n",
    "                             learning_rate=0.05, max_depth=3, \n",
    "                             min_child_weight=1.7817, n_estimators=2200,\n",
    "                             reg_alpha=0.4640, reg_lambda=0.8571,\n",
    "                             subsample=0.5213, silent=1,\n",
    "                             random_state =7, nthread = -1)\n",
    "score = rmsne_cv(XGBR)\n",
    "print(\"CV score: {:.4f} ({:.4f}) \".format(score.mean(), score.std()))"
   ]
  },
  {
   "cell_type": "markdown",
   "metadata": {},
   "source": [
    "### 2. LightGBM"
   ]
  },
  {
   "cell_type": "code",
   "execution_count": 30,
   "metadata": {},
   "outputs": [
    {
     "name": "stdout",
     "output_type": "stream",
     "text": [
      "CV score: 0.6203 (0.0151) \n"
     ]
    }
   ],
   "source": [
    "LGBM = lgb.LGBMRegressor(objective='regression',num_leaves=5,\n",
    "                              learning_rate=0.05, n_estimators=720,\n",
    "                              max_bin = 55, bagging_fraction = 0.8,\n",
    "                              bagging_freq = 5, feature_fraction = 0.2319,\n",
    "                              feature_fraction_seed=9, bagging_seed=9,\n",
    "                              min_data_in_leaf =6, min_sum_hessian_in_leaf = 11)\n",
    "score = rmsne_cv(LGBM)\n",
    "print(\"CV score: {:.4f} ({:.4f}) \".format(score.mean(), score.std()))"
   ]
  },
  {
   "cell_type": "markdown",
   "metadata": {},
   "source": [
    "### 3. Stacking models"
   ]
  },
  {
   "cell_type": "markdown",
   "metadata": {},
   "source": [
    "- Simplest Stacking approach : Averaging base models\n",
    "\n",
    "We begin with this simple approach of averaging base models. We build a new class to extend scikit-learn with our model and also to laverage encapsulation and code reuse (inheritance)"
   ]
  },
  {
   "cell_type": "code",
   "execution_count": 31,
   "metadata": {},
   "outputs": [],
   "source": [
    "class AveragingModels(BaseEstimator, RegressorMixin, TransformerMixin):\n",
    "    def __init__(self, models):\n",
    "        self.models = models\n",
    "        \n",
    "    # we define clones of the original models to fit the data in\n",
    "    def fit(self, X, y):\n",
    "        self.models_ = [clone(x) for x in self.models]\n",
    "        \n",
    "        # Train cloned base models\n",
    "        for model in self.models_:\n",
    "            model.fit(X, y)\n",
    "\n",
    "        return self\n",
    "    \n",
    "    #Now we do the predictions for cloned models and average them\n",
    "    def predict(self, X):\n",
    "        predictions = np.column_stack([\n",
    "            model.predict(X) for model in self.models_\n",
    "        ])\n",
    "        return np.mean(predictions, axis=1) "
   ]
  },
  {
   "cell_type": "markdown",
   "metadata": {},
   "source": [
    "Averaged base models score: We just average four models here ENet, GBoost, KRR and lasso. Of course we could easily add more models in the mix."
   ]
  },
  {
   "cell_type": "code",
   "execution_count": 32,
   "metadata": {
    "scrolled": true
   },
   "outputs": [
    {
     "name": "stdout",
     "output_type": "stream",
     "text": [
      "CV score: 0.6102 (0.0150) \n"
     ]
    }
   ],
   "source": [
    "averaged_models = AveragingModels(models = (XGBR, LGBM))\n",
    "\n",
    "score = rmsne_cv(averaged_models)\n",
    "print(\"CV score: {:.4f} ({:.4f}) \".format(score.mean(), score.std()))"
   ]
  },
  {
   "cell_type": "markdown",
   "metadata": {},
   "source": [
    "- __Stacking averaged Models Class (Less simple Stacking : Adding a Meta-model)__"
   ]
  },
  {
   "cell_type": "code",
   "execution_count": 33,
   "metadata": {},
   "outputs": [],
   "source": [
    "class StackingAveragedModels(BaseEstimator, RegressorMixin, TransformerMixin):\n",
    "    def __init__(self, base_models, meta_model, n_folds=5):\n",
    "        self.base_models = base_models\n",
    "        self.meta_model = meta_model\n",
    "        self.n_folds = n_folds\n",
    "   \n",
    "    # We again fit the data on clones of the original models\n",
    "    def fit(self, X, y):\n",
    "        self.base_models_ = [list() for x in self.base_models]\n",
    "        self.meta_model_ = clone(self.meta_model)\n",
    "        kfold = KFold(n_splits=self.n_folds, shuffle=True, random_state=156)\n",
    "        \n",
    "        # Train cloned base models then create out-of-fold predictions\n",
    "        # that are needed to train the cloned meta-model\n",
    "        out_of_fold_predictions = np.zeros((X.shape[0], len(self.base_models)))\n",
    "        for i, model in enumerate(self.base_models):\n",
    "            for train_index, holdout_index in kfold.split(X, y):\n",
    "                instance = clone(model)\n",
    "                self.base_models_[i].append(instance)\n",
    "                instance.fit(X[train_index], y[train_index])\n",
    "                y_pred = instance.predict(X[holdout_index])\n",
    "                out_of_fold_predictions[holdout_index, i] = y_pred\n",
    "                \n",
    "        # Now train the cloned  meta-model using the out-of-fold predictions as new feature\n",
    "        self.meta_model_.fit(out_of_fold_predictions, y)\n",
    "        return self\n",
    "   \n",
    "    #Do the predictions of all base models on the test data and use the averaged predictions as \n",
    "    #meta-features for the final prediction which is done by the meta-model\n",
    "    def predict(self, X):\n",
    "        meta_features = np.column_stack([\n",
    "            np.column_stack([model.predict(X) for model in base_models]).mean(axis=1)\n",
    "            for base_models in self.base_models_ ])\n",
    "        return self.meta_model_.predict(meta_features)"
   ]
  },
  {
   "cell_type": "code",
   "execution_count": 34,
   "metadata": {
    "scrolled": true
   },
   "outputs": [
    {
     "name": "stdout",
     "output_type": "stream",
     "text": [
      "CV score: 0.6085 (0.0147) \n"
     ]
    }
   ],
   "source": [
    "Ridge = linear_model.Ridge(alpha = 0.5)\n",
    "stacked_averaged_models = StackingAveragedModels(base_models = (LGBM, XGBR), meta_model = Ridge)\n",
    "\n",
    "score = rmsne_cv(stacked_averaged_models)\n",
    "print(\"CV score: {:.4f} ({:.4f}) \".format(score.mean(), score.std()))"
   ]
  },
  {
   "cell_type": "markdown",
   "metadata": {},
   "source": [
    "### 4. Ensembling StackedRegressor, XGBoost and LightGBM"
   ]
  },
  {
   "cell_type": "markdown",
   "metadata": {},
   "source": [
    "We add XGBoost and LightGBM to the StackedRegressor defined previously"
   ]
  },
  {
   "cell_type": "markdown",
   "metadata": {},
   "source": [
    "__Final Training and Prediction__\n"
   ]
  },
  {
   "cell_type": "code",
   "execution_count": 35,
   "metadata": {
    "scrolled": true
   },
   "outputs": [
    {
     "name": "stdout",
     "output_type": "stream",
     "text": [
      "Model score on the test set: 0.5931\n"
     ]
    }
   ],
   "source": [
    "# StackedRegressor\n",
    "STACK = stacked_averaged_models.fit(X_train, y_train)\n",
    "stacked_pred = STACK.predict(X_test)\n",
    "print(\"Model score on the test set: {:.4f}\".format(rmsne(y_test, stacked_pred)))"
   ]
  },
  {
   "cell_type": "code",
   "execution_count": 36,
   "metadata": {},
   "outputs": [
    {
     "name": "stdout",
     "output_type": "stream",
     "text": [
      "Model score on the test set: 0.5939\n"
     ]
    }
   ],
   "source": [
    "# XGBoost\n",
    "XGBR = XGBR.fit(X_train, y_train)\n",
    "xgb_pred = XGBR.predict(X_test)\n",
    "print(\"Model score on the test set: {:.4f}\".format(rmsne(y_test, xgb_pred)))"
   ]
  },
  {
   "cell_type": "code",
   "execution_count": 37,
   "metadata": {},
   "outputs": [
    {
     "name": "stdout",
     "output_type": "stream",
     "text": [
      "Model score on the test set: 0.6083\n"
     ]
    }
   ],
   "source": [
    "# LightGBM\n",
    "LGBM = LGBM.fit(X_train, y_train)\n",
    "lgb_pred = LGBM.predict(X_test)\n",
    "print(\"Model score on the test set: {:.4f}\".format(rmsne(y_test, lgb_pred)))"
   ]
  },
  {
   "cell_type": "code",
   "execution_count": 38,
   "metadata": {
    "scrolled": true
   },
   "outputs": [
    {
     "name": "stdout",
     "output_type": "stream",
     "text": [
      "Model score on the test set: 0.5934\n"
     ]
    }
   ],
   "source": [
    "# Emsemble prediction\n",
    "ensemble = stacked_pred*0.80 + xgb_pred*0.10 + lgb_pred*0.10\n",
    "print(\"Model score on the test set: {:.4f}\".format(rmsne(y_test, ensemble)))"
   ]
  },
  {
   "cell_type": "code",
   "execution_count": 39,
   "metadata": {},
   "outputs": [],
   "source": [
    "# transform the target lables and predictions back to the original scale\n",
    "y_pred_restored = restore(ensemble)\n",
    "y_test_restored = restore(y_test)"
   ]
  },
  {
   "cell_type": "code",
   "execution_count": 40,
   "metadata": {
    "scrolled": true
   },
   "outputs": [
    {
     "data": {
      "image/png": "[encoded data removed]",
      "text/plain": [
       "<Figure size 432x288 with 1 Axes>"
      ]
     },
     "metadata": {},
     "output_type": "display_data"
    }
   ],
   "source": [
    "from xgboost import plot_importance\n",
    "plot_importance(XGBR)\n",
    "plt.rcParams['figure.figsize']=(15,100)\n",
    "plt.show()"
   ]
  },
  {
   "cell_type": "markdown",
   "metadata": {},
   "source": [
    "# PART III: Visualization of the prediction results"
   ]
  },
  {
   "cell_type": "code",
   "execution_count": 41,
   "metadata": {
    "scrolled": false
   },
   "outputs": [
    {
     "data": {
      "text/html": [
       "<div>\n",
       "<style scoped>\n",
       "    .dataframe tbody tr th:only-of-type {\n",
       "        vertical-align: middle;\n",
       "    }\n",
       "\n",
       "    .dataframe tbody tr th {\n",
       "        vertical-align: top;\n",
       "    }\n",
       "\n",
       "    .dataframe thead th {\n",
       "        text-align: right;\n",
       "    }\n",
       "</style>\n",
       "<table border=\"1\" class=\"dataframe\">\n",
       "  <thead>\n",
       "    <tr style=\"text-align: right;\">\n",
       "      <th></th>\n",
       "      <th>True score</th>\n",
       "      <th>Predicted score</th>\n",
       "      <th>Percentage error (%)</th>\n",
       "    </tr>\n",
       "  </thead>\n",
       "  <tbody>\n",
       "    <tr>\n",
       "      <th>count</th>\n",
       "      <td>5354.000</td>\n",
       "      <td>5354.000</td>\n",
       "      <td>5354.000</td>\n",
       "    </tr>\n",
       "    <tr>\n",
       "      <th>mean</th>\n",
       "      <td>1467.573</td>\n",
       "      <td>1465.844</td>\n",
       "      <td>4.512</td>\n",
       "    </tr>\n",
       "    <tr>\n",
       "      <th>std</th>\n",
       "      <td>146.752</td>\n",
       "      <td>117.005</td>\n",
       "      <td>3.969</td>\n",
       "    </tr>\n",
       "    <tr>\n",
       "      <th>min</th>\n",
       "      <td>850.000</td>\n",
       "      <td>1177.835</td>\n",
       "      <td>0.001</td>\n",
       "    </tr>\n",
       "    <tr>\n",
       "      <th>25%</th>\n",
       "      <td>1362.000</td>\n",
       "      <td>1379.938</td>\n",
       "      <td>1.616</td>\n",
       "    </tr>\n",
       "    <tr>\n",
       "      <th>50%</th>\n",
       "      <td>1462.000</td>\n",
       "      <td>1456.039</td>\n",
       "      <td>3.512</td>\n",
       "    </tr>\n",
       "    <tr>\n",
       "      <th>75%</th>\n",
       "      <td>1562.000</td>\n",
       "      <td>1547.027</td>\n",
       "      <td>6.193</td>\n",
       "    </tr>\n",
       "    <tr>\n",
       "      <th>max</th>\n",
       "      <td>2017.000</td>\n",
       "      <td>1886.567</td>\n",
       "      <td>56.091</td>\n",
       "    </tr>\n",
       "  </tbody>\n",
       "</table>\n",
       "</div>"
      ],
      "text/plain": [
       "       True score  Predicted score  Percentage error (%)\n",
       "count    5354.000         5354.000              5354.000\n",
       "mean     1467.573         1465.844                 4.512\n",
       "std       146.752          117.005                 3.969\n",
       "min       850.000         1177.835                 0.001\n",
       "25%      1362.000         1379.938                 1.616\n",
       "50%      1462.000         1456.039                 3.512\n",
       "75%      1562.000         1547.027                 6.193\n",
       "max      2017.000         1886.567                56.091"
      ]
     },
     "execution_count": 41,
     "metadata": {},
     "output_type": "execute_result"
    }
   ],
   "source": [
    "# Table visualization\n",
    "per_error = (np.absolute(y_pred_restored - y_test_restored) / y_test_restored) * 100\n",
    "chart = pd.DataFrame()\n",
    "chart[\"True score\"] = y_test_restored\n",
    "chart[\"Predicted score\"] = y_pred_restored\n",
    "chart[\"Percentage error (%)\"] = per_error\n",
    "chart = chart.sort_index()\n",
    "chart.describe()"
   ]
  },
  {
   "cell_type": "markdown",
   "metadata": {},
   "source": [
    "Alternative performance measure: $E = \\dfrac{||True - Predicted||^2}{||True||^2}$ or $E = \\dfrac{||True - Predicted||}{||True||}$. \n",
    "Good single value performance measure but can't be applied interval estimate."
   ]
  },
  {
   "cell_type": "code",
   "execution_count": 42,
   "metadata": {},
   "outputs": [
    {
     "data": {
      "text/plain": [
       "4.48413020310026"
      ]
     },
     "execution_count": 42,
     "metadata": {},
     "output_type": "execute_result"
    }
   ],
   "source": [
    "np.absolute(y_pred_restored - y_test_restored).sum() / np.absolute(y_test_restored).sum() *100"
   ]
  },
  {
   "cell_type": "code",
   "execution_count": 43,
   "metadata": {
    "scrolled": true
   },
   "outputs": [
    {
     "data": {
      "image/png": "[encoded data removed]",
      "text/plain": [
       "<Figure size 1080x360 with 1 Axes>"
      ]
     },
     "metadata": {},
     "output_type": "display_data"
    }
   ],
   "source": [
    "# Draw the percentage error \n",
    "plt.figure(figsize=(15,5))\n",
    "plt.plot(chart[\"Percentage error (%)\"], \"r.\", label=\"Percentage error\")\n",
    "plt.xlabel(\"Student Index\")\n",
    "plt.ylabel(\"Percentage Error (%)\")\n",
    "#plt.ylim(0, 50)\n",
    "plt.title(\"Percentage Error of the prediction for students in the test set\")\n",
    "plt.text(5000, 52,'$\\mu$ = {:2.2f}\\n$\\sigma$ = {:2.2f}'.format(per_error.mean(), per_error.std()), bbox=dict(facecolor=\"red\", alpha=0.5),fontsize=12 )\n",
    "plt.show()"
   ]
  },
  {
   "cell_type": "markdown",
   "metadata": {},
   "source": [
    "# PART IV: From regression to classification"
   ]
  },
  {
   "cell_type": "markdown",
   "metadata": {},
   "source": [
    "- At Risk (Below Grade Level Performance) binary classification"
   ]
  },
  {
   "cell_type": "code",
   "execution_count": 44,
   "metadata": {},
   "outputs": [],
   "source": [
    "# Create a dataframe A that contains all the necessary info for score-indicator transformation\n",
    "A = pd.DataFrame()\n",
    "A[\"Grade\"] = X_test[:,0]\n",
    "A[\"y_test\"] = y_test_restored\n",
    "A[\"y_pred\"] = y_pred_restored\n",
    "A[\"AtRisk_true\"] = pd.Series(np.zeros(len(A)), index=A.index)\n",
    "A[\"AtRisk_pred\"] = pd.Series(np.zeros(len(A)), index=A.index)"
   ]
  },
  {
   "cell_type": "code",
   "execution_count": 45,
   "metadata": {},
   "outputs": [],
   "source": [
    "# Map score to classification indicator\n",
    "for i in range(len(A)):\n",
    "    if A.iloc[i, 0] == 3: # Grade \n",
    "        A.iloc[i, 3] = (A.iloc[i, 1] <= 1345).astype(int)\n",
    "        A.iloc[i, 4] = (A.iloc[i, 2] <= 1345).astype(int)\n",
    "    elif A.iloc[i, 0] == 4: # Grade \n",
    "        A.iloc[i, 3] = (A.iloc[i, 1] <= 1434).astype(int)\n",
    "        A.iloc[i, 4] = (A.iloc[i, 2] <= 1434).astype(int)\n",
    "    elif A.iloc[i, 0] == 5: # Grade \n",
    "        A.iloc[i, 3] = (A.iloc[i, 1] <= 1470).astype(int)\n",
    "        A.iloc[i, 4] = (A.iloc[i, 2] <= 1470).astype(int)\n",
    "    elif A.iloc[i, 0] == 6: # Grade \n",
    "        A.iloc[i, 3] = (A.iloc[i, 1] <= 1517).astype(int)\n",
    "        A.iloc[i, 4] = (A.iloc[i, 2] <= 1517).astype(int)\n",
    "    elif A.iloc[i, 0] == 7: # Grade \n",
    "        A.iloc[i, 3] = (A.iloc[i, 1] <= 1567).astype(int)\n",
    "        A.iloc[i, 4] = (A.iloc[i, 2] <= 1567).astype(int)\n",
    "    elif A.iloc[i, 0] == 8: # Grade \n",
    "        A.iloc[i, 3] = (A.iloc[i, 1] <= 1587).astype(int)\n",
    "        A.iloc[i, 4] = (A.iloc[i, 2] <= 1587).astype(int)"
   ]
  },
  {
   "cell_type": "code",
   "execution_count": 46,
   "metadata": {
    "scrolled": true
   },
   "outputs": [
    {
     "data": {
      "text/html": [
       "<div>\n",
       "<style scoped>\n",
       "    .dataframe tbody tr th:only-of-type {\n",
       "        vertical-align: middle;\n",
       "    }\n",
       "\n",
       "    .dataframe tbody tr th {\n",
       "        vertical-align: top;\n",
       "    }\n",
       "\n",
       "    .dataframe thead th {\n",
       "        text-align: right;\n",
       "    }\n",
       "</style>\n",
       "<table border=\"1\" class=\"dataframe\">\n",
       "  <thead>\n",
       "    <tr style=\"text-align: right;\">\n",
       "      <th></th>\n",
       "      <th>Grade</th>\n",
       "      <th>y_test</th>\n",
       "      <th>y_pred</th>\n",
       "      <th>AtRisk_true</th>\n",
       "      <th>AtRisk_pred</th>\n",
       "    </tr>\n",
       "  </thead>\n",
       "  <tbody>\n",
       "    <tr>\n",
       "      <th>count</th>\n",
       "      <td>5354.000</td>\n",
       "      <td>5354.000</td>\n",
       "      <td>5354.000</td>\n",
       "      <td>5354.000</td>\n",
       "      <td>5354.000</td>\n",
       "    </tr>\n",
       "    <tr>\n",
       "      <th>mean</th>\n",
       "      <td>4.770</td>\n",
       "      <td>1467.573</td>\n",
       "      <td>1465.844</td>\n",
       "      <td>0.512</td>\n",
       "      <td>0.484</td>\n",
       "    </tr>\n",
       "    <tr>\n",
       "      <th>std</th>\n",
       "      <td>1.550</td>\n",
       "      <td>146.752</td>\n",
       "      <td>117.005</td>\n",
       "      <td>0.500</td>\n",
       "      <td>0.500</td>\n",
       "    </tr>\n",
       "    <tr>\n",
       "      <th>min</th>\n",
       "      <td>3.000</td>\n",
       "      <td>850.000</td>\n",
       "      <td>1177.835</td>\n",
       "      <td>0.000</td>\n",
       "      <td>0.000</td>\n",
       "    </tr>\n",
       "    <tr>\n",
       "      <th>25%</th>\n",
       "      <td>4.000</td>\n",
       "      <td>1362.000</td>\n",
       "      <td>1379.938</td>\n",
       "      <td>0.000</td>\n",
       "      <td>0.000</td>\n",
       "    </tr>\n",
       "    <tr>\n",
       "      <th>50%</th>\n",
       "      <td>5.000</td>\n",
       "      <td>1462.000</td>\n",
       "      <td>1456.039</td>\n",
       "      <td>1.000</td>\n",
       "      <td>0.000</td>\n",
       "    </tr>\n",
       "    <tr>\n",
       "      <th>75%</th>\n",
       "      <td>6.000</td>\n",
       "      <td>1562.000</td>\n",
       "      <td>1547.027</td>\n",
       "      <td>1.000</td>\n",
       "      <td>1.000</td>\n",
       "    </tr>\n",
       "    <tr>\n",
       "      <th>max</th>\n",
       "      <td>8.000</td>\n",
       "      <td>2017.000</td>\n",
       "      <td>1886.567</td>\n",
       "      <td>1.000</td>\n",
       "      <td>1.000</td>\n",
       "    </tr>\n",
       "  </tbody>\n",
       "</table>\n",
       "</div>"
      ],
      "text/plain": [
       "         Grade   y_test   y_pred  AtRisk_true  AtRisk_pred\n",
       "count 5354.000 5354.000 5354.000     5354.000     5354.000\n",
       "mean     4.770 1467.573 1465.844        0.512        0.484\n",
       "std      1.550  146.752  117.005        0.500        0.500\n",
       "min      3.000  850.000 1177.835        0.000        0.000\n",
       "25%      4.000 1362.000 1379.938        0.000        0.000\n",
       "50%      5.000 1462.000 1456.039        1.000        0.000\n",
       "75%      6.000 1562.000 1547.027        1.000        1.000\n",
       "max      8.000 2017.000 1886.567        1.000        1.000"
      ]
     },
     "execution_count": 46,
     "metadata": {},
     "output_type": "execute_result"
    }
   ],
   "source": [
    "A.describe()"
   ]
  },
  {
   "cell_type": "code",
   "execution_count": 47,
   "metadata": {
    "scrolled": false
   },
   "outputs": [
    {
     "name": "stdout",
     "output_type": "stream",
     "text": [
      "Below grade level performance classification:\n",
      "The baseline for classification accuracy is 51.16%\n",
      "The test classification accuracy is 80.07%\n"
     ]
    }
   ],
   "source": [
    "from sklearn.metrics import accuracy_score\n",
    "print(\"Below grade level performance classification:\")\n",
    "print(\"The baseline for classification accuracy is {:2.2%}\".format(A[\"AtRisk_true\"].sum()/len(A[\"AtRisk_true\"])))\n",
    "print(\"The test classification accuracy is {:2.2%}\".format(accuracy_score(A[\"AtRisk_true\"], A[\"AtRisk_pred\"])))"
   ]
  },
  {
   "cell_type": "markdown",
   "metadata": {},
   "source": [
    "## Analysis by grade level"
   ]
  },
  {
   "cell_type": "markdown",
   "metadata": {},
   "source": [
    "### By-grade mean"
   ]
  },
  {
   "cell_type": "code",
   "execution_count": 48,
   "metadata": {},
   "outputs": [
    {
     "name": "stdout",
     "output_type": "stream",
     "text": [
      "The predicted mean score for grade 3 is: 1380\n",
      "The predicted mean score for grade 4 is: 1444\n",
      "The predicted mean score for grade 5 is: 1511\n",
      "The predicted mean score for grade 6 is: 1471\n",
      "The predicted mean score for grade 7 is: 1536\n",
      "The predicted mean score for grade 8 is: 1574\n"
     ]
    }
   ],
   "source": [
    "# pred mean\n",
    "pred_mean_grades = []\n",
    "for i in range(3,9):\n",
    "    pred_mean = A[A[\"Grade\"] == i][\"y_pred\"].mean()\n",
    "    pred_mean_grades.append(pred_mean)\n",
    "    print(\"The predicted mean score for grade {} is: {:.4}\".format(i, format(pred_mean,\"f\")))"
   ]
  },
  {
   "cell_type": "code",
   "execution_count": 49,
   "metadata": {},
   "outputs": [
    {
     "name": "stdout",
     "output_type": "stream",
     "text": [
      "The true mean score for grade 3 is: 1382\n",
      "The true mean score for grade 4 is: 1445\n",
      "The true mean score for grade 5 is: 1514\n",
      "The true mean score for grade 6 is: 1466\n",
      "The true mean score for grade 7 is: 1540\n",
      "The true mean score for grade 8 is: 1578\n"
     ]
    }
   ],
   "source": [
    "# true mean\n",
    "true_mean_grades = []\n",
    "for i in range(3,9):\n",
    "    true_mean = A[A[\"Grade\"] == i][\"y_test\"].mean()\n",
    "    true_mean_grades.append(true_mean)\n",
    "    print(\"The true mean score for grade {} is: {:.4}\".format(i, format(true_mean, \"f\")))"
   ]
  },
  {
   "cell_type": "code",
   "execution_count": 50,
   "metadata": {
    "scrolled": true
   },
   "outputs": [
    {
     "data": {
      "image/png": "[encoded data removed]",
      "text/plain": [
       "<Figure size 720x360 with 1 Axes>"
      ]
     },
     "metadata": {},
     "output_type": "display_data"
    }
   ],
   "source": [
    "plt.figure(figsize=(10,5))\n",
    "plt.plot(pred_mean_grades, \"b\", label=\"predicted\")\n",
    "plt.plot(true_mean_grades, \"r\", label=\"observed\")\n",
    "plt.xlabel(\"Grade\")\n",
    "plt.ylabel(\"Mean score\")\n",
    "plt.title(\"Mean score by grade\")\n",
    "plt.legend()\n",
    "plt.show()"
   ]
  },
  {
   "cell_type": "code",
   "execution_count": 51,
   "metadata": {},
   "outputs": [
    {
     "data": {
      "image/png": "[encoded data removed]",
      "text/plain": [
       "<Figure size 720x360 with 1 Axes>"
      ]
     },
     "metadata": {},
     "output_type": "display_data"
    }
   ],
   "source": [
    "## fig, ax = plt.subplots()\n",
    "plt.figure(figsize=(10,5))\n",
    "bar_width = 0.35\n",
    "opacity = 0.8\n",
    "\n",
    "ind = np.arange(3,9)\n",
    "plt.bar(ind-0.5*bar_width, pred_mean_grades, bar_width, label=\"predicted\")\n",
    "plt.bar(ind+0.5*bar_width, true_mean_grades, bar_width, label=\"observed\")\n",
    "plt.xlabel(\"Grade\")\n",
    "plt.ylabel(\"Mean score\")\n",
    "plt.title(\"Mean score by grade\")\n",
    "plt.legend()\n",
    "\n",
    "for i in ind:\n",
    "    plt.text(x=i-bar_width, y=pred_mean_grades[i-3]+30, s=int(pred_mean_grades[i-3]))\n",
    "    plt.text(x=i, y=true_mean_grades[i-3]+30, s=int(true_mean_grades[i-3]))\n",
    "plt.show()"
   ]
  },
  {
   "cell_type": "markdown",
   "metadata": {},
   "source": [
    "### By-grade regression loss/error"
   ]
  },
  {
   "cell_type": "code",
   "execution_count": 52,
   "metadata": {
    "scrolled": true
   },
   "outputs": [
    {
     "name": "stdout",
     "output_type": "stream",
     "text": [
      "The regression loss/error for grade 3 is: 0.07301\n",
      "The regression loss/error for grade 4 is: 0.05991\n",
      "The regression loss/error for grade 5 is: 0.05448\n",
      "The regression loss/error for grade 6 is: 0.05486\n",
      "The regression loss/error for grade 7 is: 0.04656\n",
      "The regression loss/error for grade 8 is: 0.04718\n"
     ]
    }
   ],
   "source": [
    "errors_grades = []\n",
    "for i in range(3,9):\n",
    "    error = np.sqrt(mean_squared_error(np.log(A[A[\"Grade\"] == i][\"y_test\"]), np.log(A[A[\"Grade\"] == i][\"y_pred\"])))\n",
    "    errors_grades.append(error)\n",
    "    print(\"The regression loss/error for grade {} is: {:.4}\".format(i, error))"
   ]
  },
  {
   "cell_type": "code",
   "execution_count": 53,
   "metadata": {
    "scrolled": true
   },
   "outputs": [
    {
     "data": {
      "image/png": "[encoded data removed]",
      "text/plain": [
       "<Figure size 720x360 with 1 Axes>"
      ]
     },
     "metadata": {},
     "output_type": "display_data"
    }
   ],
   "source": [
    "plt.figure(figsize=(10,5))\n",
    "plt.plot(range(3,9), errors_grades, \"b\", label=\"rmsle by grade\")\n",
    "plt.xlabel(\"Grade\")\n",
    "plt.ylabel(\"Root mean square error of log scores\")\n",
    "#plt.ylim(0,0.1)\n",
    "plt.title(\"Error by grade level\")\n",
    "plt.show()"
   ]
  },
  {
   "cell_type": "markdown",
   "metadata": {},
   "source": [
    "### By-grade classification accuracy"
   ]
  },
  {
   "cell_type": "code",
   "execution_count": 54,
   "metadata": {
    "scrolled": true
   },
   "outputs": [
    {
     "name": "stdout",
     "output_type": "stream",
     "text": [
      "The classification accuracy for grade 3 is: 77.10%\n",
      "The classification accuracy for grade 4 is: 80.47%\n",
      "The classification accuracy for grade 5 is: 82.26%\n",
      "The classification accuracy for grade 6 is: 82.18%\n",
      "The classification accuracy for grade 7 is: 79.91%\n",
      "The classification accuracy for grade 8 is: 79.32%\n"
     ]
    }
   ],
   "source": [
    "accuracies_grades = []\n",
    "for i in range(3,9):\n",
    "    accuracy = accuracy_score(A[A[\"Grade\"] == i][\"AtRisk_true\"], A[A[\"Grade\"] == i][\"AtRisk_pred\"])\n",
    "    accuracies_grades.append(accuracy)\n",
    "    print(\"The classification accuracy for grade {} is: {:2.2%}\".format(i, accuracy))"
   ]
  },
  {
   "cell_type": "code",
   "execution_count": 55,
   "metadata": {
    "scrolled": true
   },
   "outputs": [
    {
     "data": {
      "image/png": "[encoded data removed]",
      "text/plain": [
       "<Figure size 720x360 with 1 Axes>"
      ]
     },
     "metadata": {},
     "output_type": "display_data"
    }
   ],
   "source": [
    "plt.figure(figsize=(10,5))\n",
    "plt.plot(range(3,9), accuracies_grades, \"b\", label=\"accuracy by grade\")\n",
    "plt.xlabel(\"Grade\")\n",
    "plt.ylabel(\"Class accuracy\")\n",
    "#plt.ylim(0.7,0.9)\n",
    "plt.title(\"Class accuracy by grade level\")\n",
    "plt.show()"
   ]
  }
 ],
 "metadata": {
  "kernelspec": {
   "display_name": "Python [conda env:anaconda3]",
   "language": "python",
   "name": "conda-env-anaconda3-py"
  },
  "language_info": {
   "codemirror_mode": {
    "name": "ipython",
    "version": 3
   },
   "file_extension": ".py",
   "mimetype": "text/x-python",
   "name": "python",
   "nbconvert_exporter": "python",
   "pygments_lexer": "ipython3",
   "version": "3.6.3"
  }
 },
 "nbformat": 4,
 "nbformat_minor": 2
}
